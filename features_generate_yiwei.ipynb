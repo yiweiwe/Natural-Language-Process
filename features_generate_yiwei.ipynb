{
 "cells": [
  {
   "cell_type": "code",
   "execution_count": 0,
   "metadata": {
    "colab": {},
    "colab_type": "code",
    "collapsed": true,
    "id": "l0ggeZFt4ctv"
   },
   "outputs": [],
   "source": [
    "import json\n",
    "import pandas as pd\n",
    "with open('data.txt') as json_data:\n",
    "    d = json.load(json_data)"
   ]
  },
  {
   "cell_type": "code",
   "execution_count": 0,
   "metadata": {
    "colab": {},
    "colab_type": "code",
    "id": "s6bDcMq54ct0",
    "outputId": "1bf7d60a-2ac0-4e1a-fc6d-3b780395c1f8"
   },
   "outputs": [
    {
     "data": {
      "text/plain": [
       "Index(['_id', 'abstract', 'blog', 'byline', 'document_type', 'headline',\n",
       "       'keywords', 'lead_paragraph', 'multimedia', 'news_desk', 'print_page',\n",
       "       'pub_date', 'section_name', 'slideshow_credits', 'snippet', 'source',\n",
       "       'subsection_name', 'type_of_material', 'web_url', 'word_count'],\n",
       "      dtype='object')"
      ]
     },
     "execution_count": 3,
     "metadata": {
      "tags": []
     },
     "output_type": "execute_result"
    }
   ],
   "source": [
    "df = pd.DataFrame(d['response']['docs'])\n",
    "df.columns"
   ]
  },
  {
   "cell_type": "code",
   "execution_count": 0,
   "metadata": {
    "colab": {},
    "colab_type": "code",
    "collapsed": true,
    "id": "YTLFcXcZ4ct7"
   },
   "outputs": [],
   "source": [
    "from textblob import TextBlob\n",
    "df['ave_pos_polarity'] = 0\n",
    "df['max_pos_polarity'] = 0\n",
    "df['min_pos_polarity'] = 0\n",
    "df['count_pos_word'] = 0\n",
    "df['ave_neg_polarity'] = 0\n",
    "df['max_neg_polarity'] = 0\n",
    "df['min_neg_polarity'] = 0\n",
    "df['count_neg_word'] = 0\n",
    "\n",
    "for i in df.index:\n",
    "    if (df['abstract'][i] is not None) and (df['headline'][i]['main'] is not None) and (df['lead_paragraph'][i] is not None):\n",
    "        allwords = df['abstract'][i].split(' ') + df['headline'][i]['main'].split(' ') + df['lead_paragraph'][i].split(' ')\n",
    "        # print(i,len(allwords))\n",
    "        # print(allwords)\n",
    "        positive_sentiments = []\n",
    "        negative_sentiments = []\n",
    "        for word in allwords:\n",
    "            polarity = TextBlob(word).sentiment.polarity\n",
    "            if polarity>0:\n",
    "                positive_sentiments.append(polarity)\n",
    "            elif polarity<0:\n",
    "                negative_sentiments.append(polarity)\n",
    "        # print(positive_sentiments)\n",
    "        # print(negative_sentiments)\n",
    "        if positive_sentiments.__len__() != 0:\n",
    "            df.loc[i,'ave_pos_polarity'] = sum(positive_sentiments)/positive_sentiments.__len__()\n",
    "            df.loc[i,'max_pos_polarity'] = max(positive_sentiments)\n",
    "            df.loc[i,'min_pos_polarity'] = min(positive_sentiments)\n",
    "            df.loc[i,'count_pos_word'] = positive_sentiments.__len__()\n",
    "        if negative_sentiments.__len__() != 0:\n",
    "            df.loc[i,'ave_neg_polarity'] = sum(negative_sentiments)/negative_sentiments.__len__()\n",
    "            df.loc[i,'max_neg_polarity'] = max(negative_sentiments)\n",
    "            df.loc[i,'min_neg_polarity'] = min(negative_sentiments)\n",
    "            df.loc[i,'count_neg_word'] = negative_sentiments.__len__()"
   ]
  },
  {
   "cell_type": "code",
   "execution_count": 0,
   "metadata": {
    "colab": {},
    "colab_type": "code",
    "id": "TME-wi2b4ct-",
    "outputId": "57e3fcf9-0186-4cef-c675-7dfd9a46bec9"
   },
   "outputs": [
    {
     "data": {
      "text/html": [
       "<div>\n",
       "<table border=\"1\" class=\"dataframe\">\n",
       "  <thead>\n",
       "    <tr style=\"text-align: right;\">\n",
       "      <th></th>\n",
       "      <th>ave_pos_polarity</th>\n",
       "      <th>count_pos_word</th>\n",
       "      <th>ave_neg_polarity</th>\n",
       "      <th>count_neg_word</th>\n",
       "    </tr>\n",
       "  </thead>\n",
       "  <tbody>\n",
       "    <tr>\n",
       "      <th>0</th>\n",
       "      <td>0.220380</td>\n",
       "      <td>26</td>\n",
       "      <td>-0.105556</td>\n",
       "      <td>9</td>\n",
       "    </tr>\n",
       "    <tr>\n",
       "      <th>1</th>\n",
       "      <td>0.211397</td>\n",
       "      <td>29</td>\n",
       "      <td>-0.105556</td>\n",
       "      <td>9</td>\n",
       "    </tr>\n",
       "    <tr>\n",
       "      <th>2</th>\n",
       "      <td>0.207897</td>\n",
       "      <td>31</td>\n",
       "      <td>-0.105556</td>\n",
       "      <td>9</td>\n",
       "    </tr>\n",
       "    <tr>\n",
       "      <th>3</th>\n",
       "      <td>0.217025</td>\n",
       "      <td>32</td>\n",
       "      <td>-0.105000</td>\n",
       "      <td>10</td>\n",
       "    </tr>\n",
       "    <tr>\n",
       "      <th>4</th>\n",
       "      <td>0.202633</td>\n",
       "      <td>36</td>\n",
       "      <td>-0.106250</td>\n",
       "      <td>12</td>\n",
       "    </tr>\n",
       "  </tbody>\n",
       "</table>\n",
       "</div>"
      ],
      "text/plain": [
       "<div>\n",
       "<table border=\"1\" class=\"dataframe\">\n",
       "  <thead>\n",
       "    <tr style=\"text-align: right;\">\n",
       "      <th></th>\n",
       "      <th>ave_pos_polarity</th>\n",
       "      <th>count_pos_word</th>\n",
       "      <th>ave_neg_polarity</th>\n",
       "      <th>count_neg_word</th>\n",
       "    </tr>\n",
       "  </thead>\n",
       "  <tbody>\n",
       "    <tr>\n",
       "      <th>0</th>\n",
       "      <td>0.220380</td>\n",
       "      <td>26</td>\n",
       "      <td>-0.105556</td>\n",
       "      <td>9</td>\n",
       "    </tr>\n",
       "    <tr>\n",
       "      <th>1</th>\n",
       "      <td>0.211397</td>\n",
       "      <td>29</td>\n",
       "      <td>-0.105556</td>\n",
       "      <td>9</td>\n",
       "    </tr>\n",
       "    <tr>\n",
       "      <th>2</th>\n",
       "      <td>0.207897</td>\n",
       "      <td>31</td>\n",
       "      <td>-0.105556</td>\n",
       "      <td>9</td>\n",
       "    </tr>\n",
       "    <tr>\n",
       "      <th>3</th>\n",
       "      <td>0.217025</td>\n",
       "      <td>32</td>\n",
       "      <td>-0.105000</td>\n",
       "      <td>10</td>\n",
       "    </tr>\n",
       "    <tr>\n",
       "      <th>4</th>\n",
       "      <td>0.202633</td>\n",
       "      <td>36</td>\n",
       "      <td>-0.106250</td>\n",
       "      <td>12</td>\n",
       "    </tr>\n",
       "  </tbody>\n",
       "</table>\n",
       "</div>"
      ]
     },
     "execution_count": 39,
     "metadata": {
      "tags": []
     },
     "output_type": "execute_result"
    }
   ],
   "source": [
    "df.loc[:,['ave_pos_polarity','count_pos_word','ave_neg_polarity','count_neg_word']].head()"
   ]
  },
  {
   "cell_type": "code",
   "execution_count": 0,
   "metadata": {
    "colab": {},
    "colab_type": "code",
    "collapsed": true,
    "id": "zqJVQTU84cuC"
   },
   "outputs": [],
   "source": []
  }
 ],
 "metadata": {
  "colab": {
   "name": "features_generate_leon.ipynb",
   "provenance": [],
   "version": "0.3.2"
  },
  "kernelspec": {
   "display_name": "Python 3",
   "language": "python",
   "name": "python3"
  },
  "language_info": {
   "codemirror_mode": {
    "name": "ipython",
    "version": 3
   },
   "file_extension": ".py",
   "mimetype": "text/x-python",
   "name": "python",
   "nbconvert_exporter": "python",
   "pygments_lexer": "ipython3",
   "version": "3.6.8"
  }
 },
 "nbformat": 4,
 "nbformat_minor": 1
}
