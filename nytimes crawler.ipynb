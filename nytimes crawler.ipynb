{
 "cells": [
  {
   "cell_type": "code",
   "execution_count": 3,
   "metadata": {},
   "outputs": [],
   "source": [
    "from nytimesarticle import articleAPI\n",
    "api = articleAPI('d8aa3577610f4275970e3db46f3f1f51')"
   ]
  },
  {
   "cell_type": "code",
   "execution_count": 25,
   "metadata": {
    "collapsed": true
   },
   "outputs": [],
   "source": [
    "articles = api.search( begin_date = 20170406, end_date=20170407 )"
   ]
  },
  {
   "cell_type": "code",
   "execution_count": 26,
   "metadata": {},
   "outputs": [
    {
     "data": {
      "text/plain": [
       "dict_keys(['response', 'status', 'copyright'])"
      ]
     },
     "execution_count": 26,
     "metadata": {},
     "output_type": "execute_result"
    }
   ],
   "source": [
    "articles.keys()"
   ]
  },
  {
   "cell_type": "code",
   "execution_count": 27,
   "metadata": {},
   "outputs": [
    {
     "data": {
      "text/plain": [
       "{'hits': 1803, 'offset': 0, 'time': 40}"
      ]
     },
     "execution_count": 27,
     "metadata": {},
     "output_type": "execute_result"
    }
   ],
   "source": [
    "articles['response']['meta']"
   ]
  },
  {
   "cell_type": "code",
   "execution_count": 29,
   "metadata": {},
   "outputs": [
    {
     "data": {
      "text/plain": [
       "list"
      ]
     },
     "execution_count": 29,
     "metadata": {},
     "output_type": "execute_result"
    }
   ],
   "source": [
    "type(articles['response']['docs'])"
   ]
  },
  {
   "cell_type": "code",
   "execution_count": 31,
   "metadata": {},
   "outputs": [
    {
     "data": {
      "text/plain": [
       "10"
      ]
     },
     "execution_count": 31,
     "metadata": {},
     "output_type": "execute_result"
    }
   ],
   "source": [
    "len(articles['response']['docs'])"
   ]
  },
  {
   "cell_type": "code",
   "execution_count": 34,
   "metadata": {},
   "outputs": [
    {
     "data": {
      "text/plain": [
       "dict"
      ]
     },
     "execution_count": 34,
     "metadata": {},
     "output_type": "execute_result"
    }
   ],
   "source": [
    "type(articles['response']['docs'][0])"
   ]
  },
  {
   "cell_type": "code",
   "execution_count": 35,
   "metadata": {},
   "outputs": [
    {
     "data": {
      "text/plain": [
       "dict_keys(['web_url', 'snippet', 'lead_paragraph', 'abstract', 'print_page', 'blog', 'source', 'multimedia', 'headline', 'keywords', 'pub_date', 'document_type', 'news_desk', 'section_name', 'subsection_name', 'byline', 'type_of_material', '_id', 'word_count', 'slideshow_credits'])"
      ]
     },
     "execution_count": 35,
     "metadata": {},
     "output_type": "execute_result"
    }
   ],
   "source": [
    "articles['response']['docs'][0].keys()"
   ]
  },
  {
   "cell_type": "code",
   "execution_count": 36,
   "metadata": {},
   "outputs": [
    {
     "data": {
      "text/plain": [
       "{'_id': '58e7ed147c459f24986d9131',\n",
       " 'abstract': None,\n",
       " 'blog': [],\n",
       " 'byline': {'organization': 'REUTERS', 'original': 'By REUTERS', 'person': []},\n",
       " 'document_type': 'article',\n",
       " 'headline': {'main': 'Latin America Nations Urge U.N.-Backed Solution to Syria Conflict',\n",
       "  'print_headline': 'Latin America Nations Urge U.N.-Backed Solution to Syria Conflict'},\n",
       " 'keywords': [],\n",
       " 'lead_paragraph': 'Seven Latin American nations jointly expressed on Friday their concern about the escalation of violence in Syria and \"strongly condemned the inhumane use of chemical weapons in that nation against civilians, particularly children.\"',\n",
       " 'multimedia': [],\n",
       " 'news_desk': 'None',\n",
       " 'print_page': 0,\n",
       " 'pub_date': '2017-04-07T19:48:28+0000',\n",
       " 'section_name': 'World',\n",
       " 'slideshow_credits': None,\n",
       " 'snippet': 'Seven Latin American nations jointly expressed on Friday their concern about the escalation of violence in Syria and \"strongly condemned the inhumane use of chemical weapons in that nation against civilians, particularly children.\"...',\n",
       " 'source': 'Reuters',\n",
       " 'subsection_name': 'Americas',\n",
       " 'type_of_material': 'News',\n",
       " 'web_url': 'https://www.nytimes.com/reuters/2017/04/07/world/americas/07reuters-mideast-crisis-syria-latin-america.html',\n",
       " 'word_count': 143}"
      ]
     },
     "execution_count": 36,
     "metadata": {},
     "output_type": "execute_result"
    }
   ],
   "source": [
    "articles['response']['docs'][0]"
   ]
  },
  {
   "cell_type": "code",
   "execution_count": null,
   "metadata": {},
   "outputs": [],
   "source": []
  },
  {
   "cell_type": "code",
   "execution_count": 5,
   "metadata": {
    "collapsed": true
   },
   "outputs": [
    {
     "name": "stdout",
     "output_type": "stream",
     "text": [
      "{'response': {'meta': {'hits': 10834, 'time': 62, 'offset': 0}, 'docs': [{'web_url': 'https://www.nytimes.com/slideshow/2015/01/01/opinion/sunday/the-strip-2015.html', 'snippet': 'Cartoons about current affairs....', 'lead_paragraph': 'Cartoons about current affairs.', 'abstract': None, 'print_page': None, 'blog': [], 'source': 'The New York Times', 'multimedia': [{'width': 190, 'url': 'images/2012/07/08/opinion/sunday/the-strip-slide-KP3A/the-strip-slide-KP3A-thumbWide.png', 'height': 126, 'subtype': 'wide', 'legacy': {'wide': 'images/2012/07/08/opinion/sunday/the-strip-slide-KP3A/the-strip-slide-KP3A-thumbWide.png', 'wideheight': '126', 'widewidth': '190'}, 'type': 'image'}, {'width': 600, 'url': 'images/2012/07/08/opinion/sunday/the-strip-slide-KP3A/the-strip-slide-KP3A-articleLarge.png', 'height': 312, 'subtype': 'xlarge', 'legacy': {'xlargewidth': '600', 'xlarge': 'images/2012/07/08/opinion/sunday/the-strip-slide-KP3A/the-strip-slide-KP3A-articleLarge.png', 'xlargeheight': '312'}, 'type': 'image'}, {'width': 75, 'url': 'images/2012/07/08/opinion/sunday/the-strip-slide-KP3A/the-strip-slide-KP3A-thumbStandard.png', 'height': 75, 'subtype': 'thumbnail', 'legacy': {'thumbnailheight': '75', 'thumbnail': 'images/2012/07/08/opinion/sunday/the-strip-slide-KP3A/the-strip-slide-KP3A-thumbStandard.png', 'thumbnailwidth': '75'}, 'type': 'image'}], 'headline': {'main': 'The Strip — 2015'}, 'keywords': [{'rank': '1', 'is_major': 'N', 'name': 'subject', 'value': 'Comic Books and Strips'}, {'rank': '2', 'is_major': 'N', 'name': 'subject', 'value': 'United States Politics and Government'}], 'pub_date': '2015-01-01T00:00:00Z', 'document_type': 'multimedia', 'news_desk': 'Opinion / Sunday Review', 'section_name': 'Opinion', 'subsection_name': 'Sunday Review', 'byline': [], 'type_of_material': 'Slideshow', '_id': '56af6dad38f0d82f06c0ce5f', 'word_count': '4', 'slideshow_credits': 'December 20, 2015 -- By Brian McFadden'}, {'web_url': 'https://www.nytimes.com/interactive/2015/01/01/garden/12Pragmatist-Interactive.html', 'snippet': 'Here’s what you’ll need....', 'lead_paragraph': 'Here’s what you’ll need.', 'abstract': None, 'print_page': None, 'blog': [], 'source': 'The New York Times', 'multimedia': [{'width': 190, 'url': 'images/2015/02/12/garden/12PRAGMATIST/12PRAGMATIST-thumbWide-v5.jpg', 'height': 126, 'subtype': 'wide', 'legacy': {'wide': 'images/2015/02/12/garden/12PRAGMATIST/12PRAGMATIST-thumbWide-v5.jpg', 'wideheight': '126', 'widewidth': '190'}, 'type': 'image'}, {'width': 600, 'url': 'images/2015/02/12/garden/12PRAGMATIST/12PRAGMATIST-articleLarge-v3.jpg', 'height': 428, 'subtype': 'xlarge', 'legacy': {'xlargewidth': '600', 'xlarge': 'images/2015/02/12/garden/12PRAGMATIST/12PRAGMATIST-articleLarge-v3.jpg', 'xlargeheight': '428'}, 'type': 'image'}, {'width': 75, 'url': 'images/2015/02/12/garden/12PRAGMATIST/12PRAGMATIST-thumbStandard-v6.jpg', 'height': 75, 'subtype': 'thumbnail', 'legacy': {'thumbnailheight': '75', 'thumbnail': 'images/2015/02/12/garden/12PRAGMATIST/12PRAGMATIST-thumbStandard-v6.jpg', 'thumbnailwidth': '75'}, 'type': 'image'}], 'headline': {'main': 'Installing Molding and Tin Ceilings', 'kicker': 'The Pragmatist'}, 'keywords': [{'rank': '1', 'is_major': 'N', 'name': 'subject', 'value': 'Do It Yourself'}, {'rank': '2', 'is_major': 'N', 'name': 'subject', 'value': 'Interior Design and Furnishings'}, {'rank': '3', 'is_major': 'N', 'name': 'subject', 'value': 'Restoration and Renovation'}], 'pub_date': '2015-01-01T00:00:00Z', 'document_type': 'multimedia', 'news_desk': 'Home & Garden', 'section_name': 'Home & Garden', 'subsection_name': None, 'byline': [], 'type_of_material': 'Interactive Feature', '_id': '54dd119238f0d8448bfa34db', 'word_count': None, 'slideshow_credits': None}, {'web_url': 'https://www.nytimes.com/aponline/2015/01/02/sports/baseball/ap-bbo-hall-of-fame-pedro-martinez.html', 'snippet': 'As a Los Angeles Dodgers broadcaster, Nomar Garciaparra watched Clayton Kershaw become the dominant pitcher in the National League, winning three of the last four NL Cy Young Awards &#8212; the last one unanimously....', 'lead_paragraph': 'As a Los Angeles Dodgers broadcaster, Nomar Garciaparra watched Clayton Kershaw become the dominant pitcher in the National League, winning three of the last four NL Cy Young Awards &#8212; the last one unanimously.', 'abstract': None, 'print_page': None, 'blog': [], 'source': 'AP', 'multimedia': [], 'headline': {'main': 'Pedro Martinez Waits for Call From Hall of Fame', 'print_headline': 'Pedro Martinez Waits for Call From Hall of Fame'}, 'keywords': [], 'pub_date': '2015-01-02T16:13:00Z', 'document_type': 'article', 'news_desk': 'None', 'section_name': 'Sports', 'subsection_name': 'Baseball', 'byline': {'person': [], 'original': 'By THE ASSOCIATED PRESS', 'organization': 'THE ASSOCIATED PRESS'}, 'type_of_material': 'News', '_id': '54a8139b38f0d85f31aaf203', 'word_count': '883', 'slideshow_credits': None}, {'web_url': 'https://www.nytimes.com/aponline/2015/01/02/world/asia/ap-as-australia-wildfires.html', 'snippet': 'Thousands of firefighters are battling wildfires burning throughout southern Australia, with residents fleeing their homes as strong winds fan the flames....', 'lead_paragraph': 'Thousands of firefighters are battling wildfires burning throughout southern Australia, with residents fleeing their homes as strong winds fan the flames.', 'abstract': None, 'print_page': None, 'blog': [], 'source': 'AP', 'multimedia': [], 'headline': {'main': 'Thousands Flee Homes as Australian Wildfires Rage', 'print_headline': 'Thousands Flee Homes as Australian Wildfires Rage'}, 'keywords': [], 'pub_date': '2015-01-02T23:54:47Z', 'document_type': 'article', 'news_desk': 'None', 'section_name': 'World', 'subsection_name': 'Asia Pacific', 'byline': {'person': [], 'original': 'By THE ASSOCIATED PRESS', 'organization': 'THE ASSOCIATED PRESS'}, 'type_of_material': 'News', '_id': '54a776d638f0d85f31aae76b', 'word_count': '122', 'slideshow_credits': None}, {'web_url': 'https://www.nytimes.com/reuters/2015/01/02/us/02reuters-usa-massachusetts-crime.html', 'snippet': \"A mother who turned up at a Massachusetts police station covered in blood and lighter fluid in 2012 was sentenced to up to 25 years in prison on Friday for slitting her two children's throats and setting their home ablaze, authorities said....\", 'lead_paragraph': \"A mother who turned up at a Massachusetts police station covered in blood and lighter fluid in 2012 was sentenced to up to 25 years in prison on Friday for slitting her two children's throats and setting their home ablaze, authorities said.\", 'abstract': None, 'print_page': None, 'blog': [], 'source': 'Reuters', 'multimedia': [], 'headline': {'main': \"Massachusetts Mother Sentenced for Slitting Kid's Throats, Burning Home\", 'print_headline': \"Massachusetts Mother Sentenced for Slitting Kid's Throats, Burning Home\"}, 'keywords': [], 'pub_date': '2015-01-02T23:52:26Z', 'document_type': 'article', 'news_desk': 'None', 'section_name': 'U.S.', 'subsection_name': None, 'byline': {'person': [], 'original': 'By REUTERS', 'organization': 'REUTERS'}, 'type_of_material': 'News', '_id': '54a7761f38f0d85f31aae76a', 'word_count': '322', 'slideshow_credits': None}, {'web_url': 'https://www.nytimes.com/aponline/2015/01/02/sports/basketball/ap-bkn-76ers-suns.html', 'snippet': 'Gerald Green and Markieff Morris each scored 21 points and the Phoenix Suns pulled away in the fourth quarter to beat the Philadelphia 76ers 112-96 on Friday night....', 'lead_paragraph': 'Gerald Green and Markieff Morris each scored 21 points and the Phoenix Suns pulled away in the fourth quarter to beat the Philadelphia 76ers 112-96 on Friday night.', 'abstract': None, 'print_page': None, 'blog': [], 'source': 'AP', 'multimedia': [], 'headline': {'main': 'Green Helps Suns Pull Away From 76ers, 112-96', 'print_headline': 'Green Helps Suns Pull Away From 76ers, 112-96'}, 'keywords': [], 'pub_date': '2015-01-02T23:50:00Z', 'document_type': 'article', 'news_desk': 'None', 'section_name': 'Sports', 'subsection_name': 'Pro Basketball', 'byline': {'person': [], 'original': 'By THE ASSOCIATED PRESS', 'organization': 'THE ASSOCIATED PRESS'}, 'type_of_material': 'News', '_id': '54a7757938f0d85f31aae769', 'word_count': '555', 'slideshow_credits': None}, {'web_url': 'https://www.nytimes.com/aponline/2015/01/02/sports/basketball/ap-bkn-hawks-jazz.html', 'snippet': 'Jeff Teague scored 25 points, and the surging Atlanta Hawks beat the Utah Jazz 98-92 on Friday night....', 'lead_paragraph': 'Jeff Teague scored 25 points, and the surging Atlanta Hawks beat the Utah Jazz 98-92 on Friday night.', 'abstract': None, 'print_page': None, 'blog': [], 'source': 'AP', 'multimedia': [], 'headline': {'main': 'Teague Help Hawks Beat Jazz 98-92', 'print_headline': 'Teague Help Hawks Beat Jazz 98-92'}, 'keywords': [], 'pub_date': '2015-01-02T23:41:41Z', 'document_type': 'article', 'news_desk': 'None', 'section_name': 'Sports', 'subsection_name': 'Pro Basketball', 'byline': {'person': [], 'original': 'By THE ASSOCIATED PRESS', 'organization': 'THE ASSOCIATED PRESS'}, 'type_of_material': 'News', '_id': '54a7740538f0d85f31aae743', 'word_count': '395', 'slideshow_credits': None}, {'web_url': 'https://www.nytimes.com/aponline/2015/01/02/sports/ncaabasketball/ap-bkw-t25-missouri-tennessee.html', 'snippet': 'Andraya Carter matched a career high with 16 points Friday night as No. 8 Tennessee outlasted Missouri 63-53 in a game that featured the ejection of three players....', 'lead_paragraph': 'Andraya Carter matched a career high with 16 points Friday night as No. 8 Tennessee outlasted Missouri 63-53 in a game that featured the ejection of three players.', 'abstract': None, 'print_page': None, 'blog': [], 'source': 'AP', 'multimedia': [], 'headline': {'main': 'No. 8 Lady Vols Beat Missouri 63-53 in SEC Opener', 'print_headline': 'No. 8 Lady Vols Beat Missouri 63-53 in SEC Opener'}, 'keywords': [], 'pub_date': '2015-01-02T23:26:08Z', 'document_type': 'article', 'news_desk': 'None', 'section_name': 'Sports', 'subsection_name': 'College Basketball', 'byline': {'person': [], 'original': 'By THE ASSOCIATED PRESS', 'organization': 'THE ASSOCIATED PRESS'}, 'type_of_material': 'News', '_id': '54a76fdc38f0d85f31aae6c8', 'word_count': '477', 'slideshow_credits': None}, {'web_url': 'https://www.nytimes.com/aponline/2015/01/02/sports/basketball/ap-bkn-pacers-bucks.html', 'snippet': 'C.J. Miles scored 22 points and Roy Hibbert had 18, leading the Indiana Pacers to a 94-91 win over the Milwaukee Bucks on Friday night....', 'lead_paragraph': 'C.J. Miles scored 22 points and Roy Hibbert had 18, leading the Indiana Pacers to a 94-91 win over the Milwaukee Bucks on Friday night.', 'abstract': None, 'print_page': None, 'blog': [], 'source': 'AP', 'multimedia': [], 'headline': {'main': 'Miles Helps Pacers Beat Bucks 94-91', 'print_headline': 'Miles Helps Pacers Beat Bucks 94-91'}, 'keywords': [], 'pub_date': '2015-01-02T23:14:52Z', 'document_type': 'article', 'news_desk': 'None', 'section_name': 'Sports', 'subsection_name': 'Pro Basketball', 'byline': {'person': [], 'original': 'By THE ASSOCIATED PRESS', 'organization': 'THE ASSOCIATED PRESS'}, 'type_of_material': 'News', '_id': '54a76db138f0d85f31aae688', 'word_count': '355', 'slideshow_credits': None}, {'web_url': 'https://www.nytimes.com/reuters/2015/01/02/us/02reuters-usa-kentucky-crash.html', 'snippet': 'A small plane crashed in Kentucky late Friday, killing the pilot and three other passengers, while a seven-year-old girl apparently survived and wandered from the wreckage to find help, state police said....', 'lead_paragraph': 'A small plane crashed in Kentucky late Friday, killing the pilot and three other passengers, while a seven-year-old girl apparently survived and wandered from the wreckage to find help, state police said.', 'abstract': None, 'print_page': None, 'blog': [], 'source': 'Reuters', 'multimedia': [], 'headline': {'main': 'Four Dead in Kentucky Plane Crash, Girl, 7, Survives: Police', 'print_headline': 'Four Dead in Kentucky Plane Crash, Girl, 7, Survives: Police'}, 'keywords': [], 'pub_date': '2015-01-02T23:13:48Z', 'document_type': 'article', 'news_desk': 'None', 'section_name': 'U.S.', 'subsection_name': None, 'byline': {'person': [], 'original': 'By REUTERS', 'organization': 'REUTERS'}, 'type_of_material': 'News', '_id': '54a76cf738f0d85f31aae671', 'word_count': '195', 'slideshow_credits': None}]}, 'status': 'OK', 'copyright': 'Copyright (c) 2013 The New York Times Company.  All Rights Reserved.'}\n"
     ]
    }
   ],
   "source": [
    "print(articles)"
   ]
  },
  {
   "cell_type": "code",
   "execution_count": 7,
   "metadata": {},
   "outputs": [],
   "source": [
    "def parse_articles(articles):\n",
    "    '''\n",
    "    This function takes in a response to the NYT api and parses\n",
    "    the articles into a list of dictionaries\n",
    "    '''\n",
    "    news = []\n",
    "    for i in articles['response']['docs']:\n",
    "        dic = {}\n",
    "        dic['id'] = i['_id']\n",
    "        if i['abstract'] is not None:\n",
    "            dic['abstract'] = i['abstract'].encode(\"utf8\")\n",
    "        dic['headline'] = i['headline']['main'].encode(\"utf8\")\n",
    "        dic['desk'] = i['news_desk']\n",
    "        dic['date'] = i['pub_date'][0:10] # cutting time of day.\n",
    "        dic['section'] = i['section_name']\n",
    "        if i['snippet'] is not None:\n",
    "            dic['snippet'] = i['snippet'].encode(\"utf8\")\n",
    "        dic['source'] = i['source']\n",
    "        dic['type'] = i['type_of_material']\n",
    "        dic['url'] = i['web_url']\n",
    "        dic['word_count'] = i['word_count']\n",
    "        # locations\n",
    "        locations = []\n",
    "        for x in range(0,len(i['keywords'])):\n",
    "            if 'glocations' in i['keywords'][x]['name']:\n",
    "                locations.append(i['keywords'][x]['value'])\n",
    "        dic['locations'] = locations\n",
    "        # subject\n",
    "        subjects = []\n",
    "        for x in range(0,len(i['keywords'])):\n",
    "            if 'subject' in i['keywords'][x]['name']:\n",
    "                subjects.append(i['keywords'][x]['value'])\n",
    "        dic['subjects'] = subjects   \n",
    "        news.append(dic)\n",
    "    return(news)"
   ]
  },
  {
   "cell_type": "code",
   "execution_count": 8,
   "metadata": {},
   "outputs": [
    {
     "data": {
      "text/plain": [
       "[{'date': '2015-01-01',\n",
       "  'desk': 'Opinion / Sunday Review',\n",
       "  'headline': b'The Strip \\xe2\\x80\\x94 2015',\n",
       "  'id': '56af6dad38f0d82f06c0ce5f',\n",
       "  'locations': [],\n",
       "  'section': 'Opinion',\n",
       "  'snippet': b'Cartoons about current affairs....',\n",
       "  'source': 'The New York Times',\n",
       "  'subjects': ['Comic Books and Strips',\n",
       "   'United States Politics and Government'],\n",
       "  'type': 'Slideshow',\n",
       "  'url': 'https://www.nytimes.com/slideshow/2015/01/01/opinion/sunday/the-strip-2015.html',\n",
       "  'word_count': '4'},\n",
       " {'date': '2015-01-01',\n",
       "  'desk': 'Home & Garden',\n",
       "  'headline': b'Installing Molding and Tin Ceilings',\n",
       "  'id': '54dd119238f0d8448bfa34db',\n",
       "  'locations': [],\n",
       "  'section': 'Home & Garden',\n",
       "  'snippet': b'Here\\xe2\\x80\\x99s what you\\xe2\\x80\\x99ll need....',\n",
       "  'source': 'The New York Times',\n",
       "  'subjects': ['Do It Yourself',\n",
       "   'Interior Design and Furnishings',\n",
       "   'Restoration and Renovation'],\n",
       "  'type': 'Interactive Feature',\n",
       "  'url': 'https://www.nytimes.com/interactive/2015/01/01/garden/12Pragmatist-Interactive.html',\n",
       "  'word_count': None},\n",
       " {'date': '2015-01-02',\n",
       "  'desk': 'None',\n",
       "  'headline': b'Pedro Martinez Waits for Call From Hall of Fame',\n",
       "  'id': '54a8139b38f0d85f31aaf203',\n",
       "  'locations': [],\n",
       "  'section': 'Sports',\n",
       "  'snippet': b'As a Los Angeles Dodgers broadcaster, Nomar Garciaparra watched Clayton Kershaw become the dominant pitcher in the National League, winning three of the last four NL Cy Young Awards &#8212; the last one unanimously....',\n",
       "  'source': 'AP',\n",
       "  'subjects': [],\n",
       "  'type': 'News',\n",
       "  'url': 'https://www.nytimes.com/aponline/2015/01/02/sports/baseball/ap-bbo-hall-of-fame-pedro-martinez.html',\n",
       "  'word_count': '883'},\n",
       " {'date': '2015-01-02',\n",
       "  'desk': 'None',\n",
       "  'headline': b'Thousands Flee Homes as Australian Wildfires Rage',\n",
       "  'id': '54a776d638f0d85f31aae76b',\n",
       "  'locations': [],\n",
       "  'section': 'World',\n",
       "  'snippet': b'Thousands of firefighters are battling wildfires burning throughout southern Australia, with residents fleeing their homes as strong winds fan the flames....',\n",
       "  'source': 'AP',\n",
       "  'subjects': [],\n",
       "  'type': 'News',\n",
       "  'url': 'https://www.nytimes.com/aponline/2015/01/02/world/asia/ap-as-australia-wildfires.html',\n",
       "  'word_count': '122'},\n",
       " {'date': '2015-01-02',\n",
       "  'desk': 'None',\n",
       "  'headline': b\"Massachusetts Mother Sentenced for Slitting Kid's Throats, Burning Home\",\n",
       "  'id': '54a7761f38f0d85f31aae76a',\n",
       "  'locations': [],\n",
       "  'section': 'U.S.',\n",
       "  'snippet': b\"A mother who turned up at a Massachusetts police station covered in blood and lighter fluid in 2012 was sentenced to up to 25 years in prison on Friday for slitting her two children's throats and setting their home ablaze, authorities said....\",\n",
       "  'source': 'Reuters',\n",
       "  'subjects': [],\n",
       "  'type': 'News',\n",
       "  'url': 'https://www.nytimes.com/reuters/2015/01/02/us/02reuters-usa-massachusetts-crime.html',\n",
       "  'word_count': '322'},\n",
       " {'date': '2015-01-02',\n",
       "  'desk': 'None',\n",
       "  'headline': b'Green Helps Suns Pull Away From 76ers, 112-96',\n",
       "  'id': '54a7757938f0d85f31aae769',\n",
       "  'locations': [],\n",
       "  'section': 'Sports',\n",
       "  'snippet': b'Gerald Green and Markieff Morris each scored 21 points and the Phoenix Suns pulled away in the fourth quarter to beat the Philadelphia 76ers 112-96 on Friday night....',\n",
       "  'source': 'AP',\n",
       "  'subjects': [],\n",
       "  'type': 'News',\n",
       "  'url': 'https://www.nytimes.com/aponline/2015/01/02/sports/basketball/ap-bkn-76ers-suns.html',\n",
       "  'word_count': '555'},\n",
       " {'date': '2015-01-02',\n",
       "  'desk': 'None',\n",
       "  'headline': b'Teague Help Hawks Beat Jazz 98-92',\n",
       "  'id': '54a7740538f0d85f31aae743',\n",
       "  'locations': [],\n",
       "  'section': 'Sports',\n",
       "  'snippet': b'Jeff Teague scored 25 points, and the surging Atlanta Hawks beat the Utah Jazz 98-92 on Friday night....',\n",
       "  'source': 'AP',\n",
       "  'subjects': [],\n",
       "  'type': 'News',\n",
       "  'url': 'https://www.nytimes.com/aponline/2015/01/02/sports/basketball/ap-bkn-hawks-jazz.html',\n",
       "  'word_count': '395'},\n",
       " {'date': '2015-01-02',\n",
       "  'desk': 'None',\n",
       "  'headline': b'No. 8 Lady Vols Beat Missouri 63-53 in SEC Opener',\n",
       "  'id': '54a76fdc38f0d85f31aae6c8',\n",
       "  'locations': [],\n",
       "  'section': 'Sports',\n",
       "  'snippet': b'Andraya Carter matched a career high with 16 points Friday night as No. 8 Tennessee outlasted Missouri 63-53 in a game that featured the ejection of three players....',\n",
       "  'source': 'AP',\n",
       "  'subjects': [],\n",
       "  'type': 'News',\n",
       "  'url': 'https://www.nytimes.com/aponline/2015/01/02/sports/ncaabasketball/ap-bkw-t25-missouri-tennessee.html',\n",
       "  'word_count': '477'},\n",
       " {'date': '2015-01-02',\n",
       "  'desk': 'None',\n",
       "  'headline': b'Miles Helps Pacers Beat Bucks 94-91',\n",
       "  'id': '54a76db138f0d85f31aae688',\n",
       "  'locations': [],\n",
       "  'section': 'Sports',\n",
       "  'snippet': b'C.J. Miles scored 22 points and Roy Hibbert had 18, leading the Indiana Pacers to a 94-91 win over the Milwaukee Bucks on Friday night....',\n",
       "  'source': 'AP',\n",
       "  'subjects': [],\n",
       "  'type': 'News',\n",
       "  'url': 'https://www.nytimes.com/aponline/2015/01/02/sports/basketball/ap-bkn-pacers-bucks.html',\n",
       "  'word_count': '355'},\n",
       " {'date': '2015-01-02',\n",
       "  'desk': 'None',\n",
       "  'headline': b'Four Dead in Kentucky Plane Crash, Girl, 7, Survives: Police',\n",
       "  'id': '54a76cf738f0d85f31aae671',\n",
       "  'locations': [],\n",
       "  'section': 'U.S.',\n",
       "  'snippet': b'A small plane crashed in Kentucky late Friday, killing the pilot and three other passengers, while a seven-year-old girl apparently survived and wandered from the wreckage to find help, state police said....',\n",
       "  'source': 'Reuters',\n",
       "  'subjects': [],\n",
       "  'type': 'News',\n",
       "  'url': 'https://www.nytimes.com/reuters/2015/01/02/us/02reuters-usa-kentucky-crash.html',\n",
       "  'word_count': '195'}]"
      ]
     },
     "execution_count": 8,
     "metadata": {},
     "output_type": "execute_result"
    }
   ],
   "source": [
    "parse_articles(articles)"
   ]
  },
  {
   "cell_type": "code",
   "execution_count": 32,
   "metadata": {},
   "outputs": [],
   "source": [
    "def get_articles(sdate,edate):\n",
    "    '''\n",
    "    This function accepts a year in string format (e.g.'1980')\n",
    "    and a query (e.g.'Amnesty International') and it will \n",
    "    return a list of parsed articles (in dictionaries)\n",
    "    for that year.\n",
    "    '''\n",
    "    all_articles = []\n",
    "    for i in range(0,100): #NYT limits pager to first 100 pages. But rarely will you find over 100 pages of results anyway.\n",
    "        page_no=str(i)\n",
    "        print(type(page_no))\n",
    "        articles = api.search(\n",
    "               fq = {'source':['The New York Times']},\n",
    "               begin_date = sdate,\n",
    "               end_date = edate,\n",
    "               sort='oldest',\n",
    "               page = page_no)\n",
    "        articles = parse_articles(articles)\n",
    "        all_articles = all_articles + articles\n",
    "    return(all_articles)\n",
    "\n"
   ]
  }
 ],
 "metadata": {
  "anaconda-cloud": {},
  "kernelspec": {
   "display_name": "Python 3",
   "language": "python",
   "name": "python3"
  },
  "language_info": {
   "codemirror_mode": {
    "name": "ipython",
    "version": 3
   },
   "file_extension": ".py",
   "mimetype": "text/x-python",
   "name": "python",
   "nbconvert_exporter": "python",
   "pygments_lexer": "ipython3",
   "version": "3.6.8"
  }
 },
 "nbformat": 4,
 "nbformat_minor": 1
}
