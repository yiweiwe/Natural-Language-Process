{
 "cells": [
  {
   "cell_type": "code",
   "execution_count": 2,
   "metadata": {},
   "outputs": [],
   "source": [
    "import numpy as np\n",
    "from sklearn import linear_model\n",
    "import pandas as pd\n",
    "import random"
   ]
  },
  {
   "cell_type": "code",
   "execution_count": 5,
   "metadata": {},
   "outputs": [],
   "source": [
    "from __future__ import print_function\n",
    "\n",
    "import os\n",
    "import subprocess\n",
    "from time import time\n",
    "from operator import itemgetter\n",
    "from scipy.stats import randint\n",
    "\n",
    "from sklearn.tree import DecisionTreeClassifier\n",
    "from sklearn.tree import export_graphviz\n",
    "from sklearn.ensemble import RandomForestClassifier, AdaBoostClassifier\n",
    "\n",
    "from sklearn.metrics import log_loss\n",
    "from sklearn.metrics import roc_curve, auc\n",
    "from sklearn.metrics import f1_score\n",
    "from sklearn.metrics import confusion_matrix\n",
    "\n",
    "\n",
    "import matplotlib.pyplot as plt\n",
    "%matplotlib inline"
   ]
  },
  {
   "cell_type": "code",
   "execution_count": null,
   "metadata": {},
   "outputs": [],
   "source": [
    "df = pd.read_csv('D:/Courses/DSGA1003/project/NoDropping_authorcounts.csv')"
   ]
  },
  {
   "cell_type": "code",
   "execution_count": 3,
   "metadata": {
    "collapsed": true
   },
   "outputs": [],
   "source": [
    "df = df.drop(['_id','abstract', 'byline', 'document_type', 'headline', 'keywords',\n",
    "                      'lead_paragraph', 'multimedia', 'news_desk', 'print_page', 'pub_date',\n",
    "                      'section_name', 'slideshow_credits', 'snippet', 'source',\n",
    "                      'type_of_material', 'web_url','abstract_list', 'nonstop_abstract_list','snippet_list', \n",
    "                      'nonstop_snippet_list','author', 'day','author_count'],1)"
   ]
  },
  {
   "cell_type": "code",
   "execution_count": 5,
   "metadata": {
    "scrolled": true
   },
   "outputs": [],
   "source": [
    "df['auth_c'].fillna(0,inplace = True)"
   ]
  },
  {
   "cell_type": "code",
   "execution_count": 6,
   "metadata": {
    "collapsed": true
   },
   "outputs": [],
   "source": [
    "df['comments_class'] = 0\n",
    "A = []\n",
    "for i in range(len(df)):\n",
    "    if df['comments_count'][i] == 0:\n",
    "        a = 0\n",
    "    #elif df['comments_count'][i] in range(1,8):\n",
    "        #a = 2\n",
    "    elif df['comments_count'][i] in range(1,43):\n",
    "        a = 1\n",
    "    #elif df['comments_count'][i] in range(43,164):\n",
    "        #a = 4\n",
    "    elif df['comments_count'][i] > 42:\n",
    "        a = 2\n",
    "    A.append(a)"
   ]
  },
  {
   "cell_type": "code",
   "execution_count": 7,
   "metadata": {
    "collapsed": true
   },
   "outputs": [],
   "source": [
    "df['comments_class'] = A"
   ]
  },
  {
   "cell_type": "code",
   "execution_count": 8,
   "metadata": {
    "collapsed": true
   },
   "outputs": [],
   "source": [
    "df.to_csv('D:/Courses/DSGA1003/project/three_class_author_counts.csv',index = False, encoding = 'utf-8')"
   ]
  },
  {
   "cell_type": "code",
   "execution_count": 9,
   "metadata": {},
   "outputs": [],
   "source": [
    "df = pd.read_csv('D:/Courses/DSGA1003/project/three_class_author_counts.csv')"
   ]
  },
  {
   "cell_type": "code",
   "execution_count": 10,
   "metadata": {},
   "outputs": [
    {
     "data": {
      "text/plain": [
       "0    42787\n",
       "1     8206\n",
       "2     8198\n",
       "Name: comments_class, dtype: int64"
      ]
     },
     "execution_count": 10,
     "metadata": {},
     "output_type": "execute_result"
    }
   ],
   "source": [
    "df['comments_class'].value_counts()"
   ]
  },
  {
   "cell_type": "code",
   "execution_count": 313,
   "metadata": {},
   "outputs": [
    {
     "data": {
      "text/plain": [
       "(59191, 79)"
      ]
     },
     "execution_count": 313,
     "metadata": {},
     "output_type": "execute_result"
    }
   ],
   "source": [
    "df.shape"
   ]
  },
  {
   "cell_type": "code",
   "execution_count": 11,
   "metadata": {
    "collapsed": true
   },
   "outputs": [],
   "source": [
    "length = len(df)\n",
    "rand = list(range(length))\n",
    "split1 = int(length*0.6)\n",
    "split2 = int(length*0.8)\n",
    "np.random.shuffle(rand)\n",
    "train_index = rand[:split1]\n",
    "valid_index = rand[split1:split2]\n",
    "test_index = rand[split2:]\n",
    "train_df = df.iloc[train_index,:]\n",
    "valid_df = df.iloc[valid_index,:]\n",
    "test_df = df.iloc[test_index,:]\n",
    "label = ['comments_class','comments_count']\n",
    "feature = ['word_count', 'abstract_polarity', 'snippet_polarity',\n",
    "           'abstract_subjectivity', 'snippet_subjectivity', 'number_of_pictures',\n",
    "           'abstract_word_cnt', 'snippet_word_cnt', 'headline_word_cnt',\n",
    "           'abstract_nonstopword_cnt', 'snippet_nonstopword_cnt',\n",
    "           'abstract_unique_nonstopword_cnt', 'snippet_unique_nonstopword_cnt',\n",
    "           'ave_pos_polarity', 'max_pos_polarity', 'min_pos_polarity',\n",
    "           'ave_neg_polarity', 'max_neg_polarity', 'min_neg_polarity',\n",
    "           'count_pos_word', 'count_neg_word', 'rate_pos_abs', 'rate_neg_abs',\n",
    "           'rate_pos_lead', 'rate_neg_lead', 'rate_pos_head', 'rate_neg_head',\n",
    "           'section_name_Arts', 'section_name_Automobiles', 'section_name_Blogs',\n",
    "           'section_name_Books', 'section_name_Business Day',\n",
    "           'section_name_Crosswords & Games', 'section_name_Crosswords/Games',\n",
    "           'section_name_Education', 'section_name_Fashion & Style',\n",
    "           'section_name_Food', 'section_name_Giving', 'section_name_Health',\n",
    "           'section_name_Home & Garden', 'section_name_Job Market',\n",
    "           'section_name_Magazine', 'section_name_Movies',\n",
    "           'section_name_Multimedia', 'section_name_Multimedia/Photos',\n",
    "           'section_name_N.Y. / Region', 'section_name_Obituaries',\n",
    "           'section_name_Open', 'section_name_Opinion',\n",
    "           'section_name_Public Editor', 'section_name_Real Estate',\n",
    "           'section_name_Science', 'section_name_Sports', 'section_name_Style',\n",
    "           'section_name_Sunday Review', 'section_name_T Magazine',\n",
    "           'section_name_Technology', 'section_name_The Upshot',\n",
    "            'section_name_Theater', 'section_name_Times Topics',\n",
    "           'section_name_Travel', 'section_name_U.S.', 'section_name_Universal',\n",
    "           'section_name_World', 'section_name_Your Money', 'section_name_false',\n",
    "           'section_name_nan', 'Friday', 'Monday', 'Saturday', 'Sunday',\n",
    "           'Thursday', 'Tuesday', 'Wednesday', 'article', 'blogpost',\n",
    "           'comments_count']\n",
    "x_train = train_df.drop(label,1)\n",
    "y_train = train_df.drop(feature,1)\n",
    "x_valid = valid_df.drop(label,1)\n",
    "y_valid = valid_df.drop(feature,1)\n",
    "x_test = test_df.drop(label,1)\n",
    "y_test = test_df.drop(feature,1)\n",
    "x_train.to_csv('D:/Courses/DSGA1003/project/x_train.csv',index = False, encoding = 'utf-8')\n",
    "y_train.to_csv('D:/Courses/DSGA1003/project/y_train.csv',index = False, encoding = 'utf-8')\n",
    "x_test.to_csv('D:/Courses/DSGA1003/project/x_test.csv',index = False, encoding = 'utf-8')\n",
    "y_test.to_csv('D:/Courses/DSGA1003/project/y_test.csv',index = False, encoding = 'utf-8')\n",
    "x_valid.to_csv('D:/Courses/DSGA1003/project/x_valid.csv',index = False, encoding = 'utf-8')\n",
    "y_valid.to_csv('D:/Courses/DSGA1003/project/y_valid.csv',index = False, encoding = 'utf-8')"
   ]
  },
  {
   "cell_type": "markdown",
   "metadata": {},
   "source": [
    "## Load Data\n"
   ]
  },
  {
   "cell_type": "code",
   "execution_count": 5,
   "metadata": {},
   "outputs": [],
   "source": [
    "x_train = pd.read_csv('D:/Courses/DSGA1003/project/x_train.csv')\n",
    "y_train = pd.read_csv('D:/Courses/DSGA1003/project/y_train.csv')\n",
    "x_test = pd.read_csv('D:/Courses/DSGA1003/project/x_test.csv')\n",
    "y_test = pd.read_csv('D:/Courses/DSGA1003/project/y_test.csv')\n",
    "x_valid = pd.read_csv('D:/Courses/DSGA1003/project/x_valid.csv')\n",
    "y_valid = pd.read_csv('D:/Courses/DSGA1003/project/y_valid.csv')"
   ]
  },
  {
   "cell_type": "code",
   "execution_count": 6,
   "metadata": {},
   "outputs": [],
   "source": [
    "y_train = y_train['comments_class']\n",
    "y_test = y_test['comments_class']\n",
    "y_valid = y_valid['comments_class']"
   ]
  },
  {
   "cell_type": "code",
   "execution_count": 7,
   "metadata": {},
   "outputs": [
    {
     "data": {
      "text/plain": [
       "Index(['word_count', 'abstract_polarity', 'snippet_polarity',\n",
       "       'abstract_subjectivity', 'snippet_subjectivity', 'number_of_pictures',\n",
       "       'abstract_word_cnt', 'snippet_word_cnt', 'headline_word_cnt',\n",
       "       'abstract_nonstopword_cnt', 'snippet_nonstopword_cnt',\n",
       "       'abstract_unique_nonstopword_cnt', 'snippet_unique_nonstopword_cnt',\n",
       "       'ave_pos_polarity', 'max_pos_polarity', 'min_pos_polarity',\n",
       "       'ave_neg_polarity', 'max_neg_polarity', 'min_neg_polarity',\n",
       "       'count_pos_word', 'count_neg_word', 'rate_pos_abs', 'rate_neg_abs',\n",
       "       'rate_pos_lead', 'rate_neg_lead', 'rate_pos_head', 'rate_neg_head',\n",
       "       'section_name_Arts', 'section_name_Automobiles', 'section_name_Blogs',\n",
       "       'section_name_Books', 'section_name_Business Day',\n",
       "       'section_name_Crosswords & Games', 'section_name_Crosswords/Games',\n",
       "       'section_name_Education', 'section_name_Fashion & Style',\n",
       "       'section_name_Food', 'section_name_Giving', 'section_name_Health',\n",
       "       'section_name_Home & Garden', 'section_name_Job Market',\n",
       "       'section_name_Magazine', 'section_name_Movies',\n",
       "       'section_name_Multimedia', 'section_name_Multimedia/Photos',\n",
       "       'section_name_N.Y. / Region', 'section_name_Obituaries',\n",
       "       'section_name_Open', 'section_name_Opinion',\n",
       "       'section_name_Public Editor', 'section_name_Real Estate',\n",
       "       'section_name_Science', 'section_name_Sports', 'section_name_Style',\n",
       "       'section_name_Sunday Review', 'section_name_T Magazine',\n",
       "       'section_name_Technology', 'section_name_The Upshot',\n",
       "       'section_name_Theater', 'section_name_Times Topics',\n",
       "       'section_name_Travel', 'section_name_U.S.', 'section_name_Universal',\n",
       "       'section_name_World', 'section_name_Your Money', 'section_name_false',\n",
       "       'section_name_nan', 'Friday', 'Monday', 'Saturday', 'Sunday',\n",
       "       'Thursday', 'Tuesday', 'Wednesday', 'article', 'blogpost', 'auth_c'],\n",
       "      dtype='object')"
      ]
     },
     "execution_count": 7,
     "metadata": {},
     "output_type": "execute_result"
    }
   ],
   "source": [
    "x_train.columns"
   ]
  },
  {
   "cell_type": "markdown",
   "metadata": {},
   "source": [
    "## Functions"
   ]
  },
  {
   "cell_type": "code",
   "execution_count": 8,
   "metadata": {
    "collapsed": true
   },
   "outputs": [],
   "source": [
    "def report(grid_scores, n_top=3):\n",
    "    \"\"\"Report top n_top parameters settings, default n_top=3.\n",
    "\n",
    "    Args\n",
    "    ----\n",
    "    grid_scores -- output from grid or random search\n",
    "    n_top -- how many to report, of top models\n",
    "\n",
    "    Returns\n",
    "    -------\n",
    "    top_params -- [dict] top parameter settings found in\n",
    "                  search\n",
    "    \"\"\"\n",
    "    top_scores = sorted(grid_scores,\n",
    "                        key=itemgetter(1),\n",
    "                        reverse=True)[:n_top]\n",
    "    for i, score in enumerate(top_scores):\n",
    "        print(\"Model with rank: {0}\".format(i + 1))\n",
    "        print((\"Mean validation score: \"\n",
    "               \"{0:.3f} (std: {1:.3f})\").format(\n",
    "               score.mean_validation_score,\n",
    "               np.std(score.cv_validation_scores)))\n",
    "        print(\"Parameters: {0}\".format(score.parameters))\n",
    "        print(\"\")\n",
    "\n",
    "    return top_scores[0].parameters"
   ]
  },
  {
   "cell_type": "code",
   "execution_count": 9,
   "metadata": {
    "collapsed": true
   },
   "outputs": [],
   "source": [
    "def run_gridsearch(X, y, clf, param_grid, score_func, cv=5):\n",
    "    \"\"\"Run a grid search for best Decision Tree parameters.\n",
    "\n",
    "    Args\n",
    "    ----\n",
    "    X -- features\n",
    "    y -- targets (classes)\n",
    "    cf -- scikit-learn Decision Tree\n",
    "    param_grid -- [dict] parameter settings to test\n",
    "    cv -- fold of cross-validation, default 5\n",
    "\n",
    "    Returns\n",
    "    -------\n",
    "    top_params -- [dict] from report()\n",
    "    \"\"\"\n",
    "    grid_search = GridSearchCV(clf,\n",
    "                               param_grid=param_grid,\n",
    "                               scoring = score_func,\n",
    "                               cv=cv,\n",
    "                               n_jobs = 4)\n",
    "    start = time()\n",
    "    grid_search.fit(X, y)\n",
    "\n",
    "    print((\"\\nGridSearchCV took {:.2f} \"\n",
    "           \"seconds for {:d} candidate \"\n",
    "           \"parameter settings.\").format(time() - start,\n",
    "                len(grid_search.grid_scores_)))\n",
    "\n",
    "    top_params = report(grid_search.grid_scores_, 3)\n",
    "    return  top_params"
   ]
  },
  {
   "cell_type": "code",
   "execution_count": 10,
   "metadata": {},
   "outputs": [
    {
     "data": {
      "text/plain": [
       "0    8645\n",
       "1    1611\n",
       "2    1583\n",
       "Name: comments_class, dtype: int64"
      ]
     },
     "execution_count": 10,
     "metadata": {},
     "output_type": "execute_result"
    }
   ],
   "source": [
    "y_test.value_counts()"
   ]
  },
  {
   "cell_type": "code",
   "execution_count": 11,
   "metadata": {},
   "outputs": [
    {
     "data": {
      "text/plain": [
       "(11839,)"
      ]
     },
     "execution_count": 11,
     "metadata": {},
     "output_type": "execute_result"
    }
   ],
   "source": [
    "y_test.shape"
   ]
  },
  {
   "cell_type": "code",
   "execution_count": null,
   "metadata": {
    "collapsed": true
   },
   "outputs": [],
   "source": []
  },
  {
   "cell_type": "markdown",
   "metadata": {},
   "source": [
    "## Baseline"
   ]
  },
  {
   "cell_type": "code",
   "execution_count": 12,
   "metadata": {},
   "outputs": [],
   "source": [
    "y_base = np.repeat(0,11839)"
   ]
  },
  {
   "cell_type": "code",
   "execution_count": 13,
   "metadata": {},
   "outputs": [
    {
     "name": "stdout",
     "output_type": "stream",
     "text": [
      "F1 scores:\n",
      "Weighted: 0.28135780772\n",
      "Class 0: 0.84407342316\n",
      "Class 1: 0.0\n",
      "Class 2: 0.0\n"
     ]
    },
    {
     "name": "stderr",
     "output_type": "stream",
     "text": [
      "C:\\Users\\sj238\\Anaconda3\\lib\\site-packages\\sklearn\\metrics\\classification.py:1074: UndefinedMetricWarning: F-score is ill-defined and being set to 0.0 in labels with no predicted samples.\n",
      "  'precision', 'predicted', average, warn_for)\n",
      "C:\\Users\\sj238\\Anaconda3\\lib\\site-packages\\sklearn\\metrics\\classification.py:1074: UndefinedMetricWarning: F-score is ill-defined and being set to 0.0 due to no predicted samples.\n",
      "  'precision', 'predicted', average, warn_for)\n"
     ]
    }
   ],
   "source": [
    "print('F1 scores:')\n",
    "#predict = rf1.predict(x_valid)\n",
    "print('Weighted:', f1_score(y_test, y_base, average='macro'))\n",
    "print('Class 0:',f1_score(y_test == 0, y_base == 0))\n",
    "print('Class 1:',f1_score(y_test == 1, y_base == 1))\n",
    "print('Class 2:',f1_score(y_test == 2, y_base == 2))"
   ]
  },
  {
   "cell_type": "code",
   "execution_count": 14,
   "metadata": {},
   "outputs": [
    {
     "data": {
      "text/plain": [
       "array([[3, 1, 0],\n",
       "       [1, 4, 1],\n",
       "       [0, 1, 5]])"
      ]
     },
     "execution_count": 14,
     "metadata": {},
     "output_type": "execute_result"
    }
   ],
   "source": [
    "eval_matrix = np.array([[3,1,0],[1,4,1],[0,1,5]])\n",
    "eval_matrix"
   ]
  },
  {
   "cell_type": "code",
   "execution_count": 15,
   "metadata": {},
   "outputs": [
    {
     "data": {
      "text/plain": [
       "40294"
      ]
     },
     "execution_count": 15,
     "metadata": {},
     "output_type": "execute_result"
    }
   ],
   "source": [
    "opt_gain = 1583*eval_matrix[2,2]+8645*eval_matrix[0,0]+1611*eval_matrix[1,1]\n",
    "opt_gain"
   ]
  },
  {
   "cell_type": "code",
   "execution_count": 16,
   "metadata": {},
   "outputs": [
    {
     "data": {
      "text/plain": [
       "27546"
      ]
     },
     "execution_count": 16,
     "metadata": {},
     "output_type": "execute_result"
    }
   ],
   "source": [
    "'''\n",
    "always predict class 0\n",
    "'''\n",
    "base0_gain = 1583*eval_matrix[2,0]+8645*eval_matrix[0,0]+1611*eval_matrix[1,0]\n",
    "base0_gain"
   ]
  },
  {
   "cell_type": "code",
   "execution_count": 17,
   "metadata": {},
   "outputs": [
    {
     "data": {
      "text/plain": [
       "16672"
      ]
     },
     "execution_count": 17,
     "metadata": {},
     "output_type": "execute_result"
    }
   ],
   "source": [
    "'''\n",
    "always predict class 1\n",
    "'''\n",
    "base0_gain = 1583*eval_matrix[2,1]+8645*eval_matrix[0,1]+1611*eval_matrix[1,1]\n",
    "base0_gain"
   ]
  },
  {
   "cell_type": "code",
   "execution_count": 18,
   "metadata": {},
   "outputs": [
    {
     "data": {
      "text/plain": [
       "9526"
      ]
     },
     "execution_count": 18,
     "metadata": {},
     "output_type": "execute_result"
    }
   ],
   "source": [
    "'''\n",
    "always predict class 2\n",
    "'''\n",
    "base2_gain = 1583*eval_matrix[2,2]+8645*eval_matrix[0,2]+1611*eval_matrix[1,2]\n",
    "base2_gain"
   ]
  },
  {
   "cell_type": "code",
   "execution_count": 19,
   "metadata": {
    "collapsed": true
   },
   "outputs": [],
   "source": [
    "def get_gain(eval_mat,pred_matrix):\n",
    "    gain_matrix = np.array([[pred_matrix[0,0]*eval_matrix[0,0],pred_matrix[0,1]*eval_matrix[0,1],pred_matrix[0,2]*eval_matrix[0,2]],\n",
    "                       [pred_matrix[1,0]*eval_matrix[1,0],pred_matrix[1,1]*eval_matrix[1,1],pred_matrix[1,2]*eval_matrix[1,2]],\n",
    "                       [pred_matrix[2,0]*eval_matrix[2,0],pred_matrix[2,1]*eval_matrix[2,1],pred_matrix[2,2]*eval_matrix[2,2]]])\n",
    "    return np.sum(gain_matrix)"
   ]
  },
  {
   "cell_type": "markdown",
   "metadata": {},
   "source": [
    "## Optimal Random Forest"
   ]
  },
  {
   "cell_type": "code",
   "execution_count": 107,
   "metadata": {},
   "outputs": [
    {
     "data": {
      "text/plain": [
       "0.78306017577310982"
      ]
     },
     "execution_count": 107,
     "metadata": {},
     "output_type": "execute_result"
    }
   ],
   "source": [
    "rf1 = RandomForestClassifier(n_jobs = 2,class_weight={0:0.24, 1:1.23, 2:1.53},n_estimators = 200, max_depth = None, \n",
    "                             max_features = 'sqrt', max_leaf_nodes = None, min_samples_leaf = 10, min_samples_split = 10)\n",
    "rf1.fit(x_train, y_train)\n",
    "f1_score(y_train, rf1.predict(x_train), average='macro')"
   ]
  },
  {
   "cell_type": "code",
   "execution_count": 108,
   "metadata": {},
   "outputs": [
    {
     "data": {
      "text/plain": [
       "0.69638373235453177"
      ]
     },
     "execution_count": 108,
     "metadata": {},
     "output_type": "execute_result"
    }
   ],
   "source": [
    "rf1.fit(x_train, y_train)\n",
    "f1_score(y_valid, rf1.predict(x_valid), average='macro')"
   ]
  },
  {
   "cell_type": "code",
   "execution_count": 113,
   "metadata": {},
   "outputs": [
    {
     "name": "stdout",
     "output_type": "stream",
     "text": [
      "F1 scores:\n",
      "Weighted: 0.696383732355\n",
      "Class 0: 0.872607506836\n",
      "Class 1: 0.622710622711\n",
      "Class 2: 0.593833067517\n"
     ]
    }
   ],
   "source": [
    "from sklearn.metrics import f1_score\n",
    "print('F1 scores:')\n",
    "predict1 = rf1.predict(x_valid)\n",
    "print('Weighted:', f1_score(y_valid, predict1, average='macro'))\n",
    "print('Class 0:',f1_score(y_valid == 0, predict1 == 0))\n",
    "print('Class 1:',f1_score(y_valid == 1, predict1 == 1))\n",
    "print('Class 2:',f1_score(y_valid == 2, predict1 == 2))"
   ]
  },
  {
   "cell_type": "code",
   "execution_count": 114,
   "metadata": {},
   "outputs": [
    {
     "data": {
      "text/plain": [
       "array([[7021,  753,  766],\n",
       "       [ 229, 1190,  210],\n",
       "       [ 302,  250, 1117]])"
      ]
     },
     "execution_count": 114,
     "metadata": {},
     "output_type": "execute_result"
    }
   ],
   "source": [
    "confusion_matrix(y_valid, rf1.predict(x_valid))"
   ]
  },
  {
   "cell_type": "code",
   "execution_count": 124,
   "metadata": {},
   "outputs": [
    {
     "data": {
      "text/plain": [
       "array([ True,  True,  True, ...,  True,  True, False], dtype=bool)"
      ]
     },
     "execution_count": 124,
     "metadata": {},
     "output_type": "execute_result"
    }
   ],
   "source": [
    "predict1 == 0"
   ]
  },
  {
   "cell_type": "code",
   "execution_count": 120,
   "metadata": {},
   "outputs": [
    {
     "data": {
      "text/plain": [
       "array([7552, 2193, 2093], dtype=int64)"
      ]
     },
     "execution_count": 120,
     "metadata": {},
     "output_type": "execute_result"
    }
   ],
   "source": [
    "np.bincount(predict1)"
   ]
  },
  {
   "cell_type": "code",
   "execution_count": 112,
   "metadata": {},
   "outputs": [
    {
     "data": {
      "text/plain": [
       "25829"
      ]
     },
     "execution_count": 112,
     "metadata": {},
     "output_type": "execute_result"
    }
   ],
   "source": [
    "get_gain(eval_matrix,confusion_matrix(y_valid, rf1.predict(x_valid)))"
   ]
  },
  {
   "cell_type": "code",
   "execution_count": 20,
   "metadata": {},
   "outputs": [
    {
     "data": {
      "text/plain": [
       "0.9025532063450159"
      ]
     },
     "execution_count": 20,
     "metadata": {},
     "output_type": "execute_result"
    }
   ],
   "source": [
    "'''Best One'''\n",
    "\n",
    "rf2 = RandomForestClassifier(n_jobs = 2,class_weight={0:0.24, 1:1.23, 2:1.53},n_estimators = 50, max_depth = None, \n",
    "                             max_features = 'sqrt', max_leaf_nodes = None, min_samples_leaf = 2, min_samples_split = 10)\n",
    "rf2.fit(x_train, y_train)\n",
    "f1_score(y_train, rf2.predict(x_train), average='macro')"
   ]
  },
  {
   "cell_type": "code",
   "execution_count": 21,
   "metadata": {},
   "outputs": [
    {
     "data": {
      "text/plain": [
       "0.71945165184663418"
      ]
     },
     "execution_count": 21,
     "metadata": {},
     "output_type": "execute_result"
    }
   ],
   "source": [
    "rf2.fit(x_train, y_train)\n",
    "f1_score(y_valid, rf2.predict(x_valid), average='macro')"
   ]
  },
  {
   "cell_type": "code",
   "execution_count": 22,
   "metadata": {},
   "outputs": [
    {
     "data": {
      "text/plain": [
       "0.72824568353329466"
      ]
     },
     "execution_count": 22,
     "metadata": {},
     "output_type": "execute_result"
    }
   ],
   "source": [
    "f1_score(y_test, rf2.predict(x_test), average='macro')"
   ]
  },
  {
   "cell_type": "code",
   "execution_count": 23,
   "metadata": {},
   "outputs": [
    {
     "data": {
      "text/plain": [
       "33885"
      ]
     },
     "execution_count": 23,
     "metadata": {},
     "output_type": "execute_result"
    }
   ],
   "source": [
    "get_gain(eval_matrix,confusion_matrix(y_test, rf2.predict(x_test)))"
   ]
  },
  {
   "cell_type": "code",
   "execution_count": 32,
   "metadata": {},
   "outputs": [
    {
     "name": "stdout",
     "output_type": "stream",
     "text": [
      "F1 scores:\n",
      "Weighted: 0.719451651847\n",
      "Class 0: 0.901567841565\n",
      "Class 1: 0.641255605381\n",
      "Class 2: 0.615531508593\n"
     ]
    }
   ],
   "source": [
    "from sklearn.metrics import f1_score\n",
    "print('F1 scores:')\n",
    "predict = rf2.predict(x_valid)\n",
    "print('Weighted:', f1_score(y_valid, predict, average='macro'))\n",
    "print('Class 0:',f1_score(y_valid == 0, predict == 0))\n",
    "print('Class 1:',f1_score(y_valid == 1, predict == 1))\n",
    "print('Class 2:',f1_score(y_valid == 2, predict == 2))"
   ]
  },
  {
   "cell_type": "code",
   "execution_count": 25,
   "metadata": {},
   "outputs": [
    {
     "data": {
      "text/plain": [
       "33635"
      ]
     },
     "execution_count": 25,
     "metadata": {},
     "output_type": "execute_result"
    }
   ],
   "source": [
    "get_gain(eval_matrix,confusion_matrix(y_valid, rf2.predict(x_valid)))"
   ]
  },
  {
   "cell_type": "code",
   "execution_count": 26,
   "metadata": {},
   "outputs": [
    {
     "data": {
      "text/plain": [
       "0.89944033964773595"
      ]
     },
     "execution_count": 26,
     "metadata": {},
     "output_type": "execute_result"
    }
   ],
   "source": [
    "rf3 = RandomForestClassifier(n_jobs = 2,class_weight={0:0.24, 1:1.23, 2:1.53},n_estimators = 200, max_depth = None, \n",
    "                             max_features = 'sqrt', max_leaf_nodes = None, min_samples_leaf = 10, min_samples_split = 10)\n",
    "rf3.fit(x_train, y_train)\n",
    "f1_score(y_train, rf2.predict(x_train), average='macro')"
   ]
  },
  {
   "cell_type": "code",
   "execution_count": 28,
   "metadata": {},
   "outputs": [
    {
     "data": {
      "text/plain": [
       "0.69301967363955219"
      ]
     },
     "execution_count": 28,
     "metadata": {},
     "output_type": "execute_result"
    }
   ],
   "source": [
    "rf3.fit(x_train, y_train)\n",
    "f1_score(y_valid, rf3.predict(x_valid), average='macro')"
   ]
  },
  {
   "cell_type": "code",
   "execution_count": 29,
   "metadata": {},
   "outputs": [
    {
     "name": "stdout",
     "output_type": "stream",
     "text": [
      "F1 scores:\n",
      "Weighted: 0.69301967364\n",
      "Class 0: 0.871823617339\n",
      "Class 1: 0.621664050235\n",
      "Class 2: 0.585571353344\n"
     ]
    }
   ],
   "source": [
    "from sklearn.metrics import f1_score\n",
    "print('F1 scores:')\n",
    "predict = rf3.predict(x_valid)\n",
    "print('Weighted:', f1_score(y_valid, predict, average='macro'))\n",
    "print('Class 0:',f1_score(y_valid == 0, predict == 0))\n",
    "print('Class 1:',f1_score(y_valid == 1, predict == 1))\n",
    "print('Class 2:',f1_score(y_valid == 2, predict == 2))"
   ]
  },
  {
   "cell_type": "code",
   "execution_count": 30,
   "metadata": {},
   "outputs": [
    {
     "data": {
      "text/plain": [
       "32755"
      ]
     },
     "execution_count": 30,
     "metadata": {},
     "output_type": "execute_result"
    }
   ],
   "source": [
    "get_gain(eval_matrix,confusion_matrix(y_valid, rf3.predict(x_valid)))"
   ]
  },
  {
   "cell_type": "code",
   "execution_count": 72,
   "metadata": {},
   "outputs": [
    {
     "data": {
      "text/plain": [
       "array([8540, 1629, 1669], dtype=int64)"
      ]
     },
     "execution_count": 72,
     "metadata": {},
     "output_type": "execute_result"
    }
   ],
   "source": [
    "np.bincount(y_valid)"
   ]
  },
  {
   "cell_type": "markdown",
   "metadata": {},
   "source": [
    "## Number of Trees Vs. F1-score & Gain"
   ]
  },
  {
   "cell_type": "code",
   "execution_count": 47,
   "metadata": {},
   "outputs": [],
   "source": [
    "tree_size = [2,3,4,5,6,7,8,9,10,15,20,30,50,100,200,500]\n",
    "train_score = []\n",
    "valid_score = []\n",
    "valid_gain = []\n",
    "for t in tree_size:\n",
    "    rf = RandomForestClassifier(n_jobs = 2,class_weight={0:0.24, 1:1.23, 2:1.53},n_estimators = t, max_depth = None, \n",
    "                             max_features = 'sqrt', max_leaf_nodes = None, min_samples_leaf = 2, min_samples_split = 10)\n",
    "    rf.fit(x_train, y_train)\n",
    "    tr_score = f1_score(y_train, rf.predict(x_train), average='macro')\n",
    "    val_score = f1_score(y_valid, rf.predict(x_valid), average='macro')\n",
    "    tr_gain = get_gain(eval_matrix,confusion_matrix(y_train, rf.predict(x_train)))\n",
    "    val_gain = get_gain(eval_matrix,confusion_matrix(y_valid, rf.predict(x_valid)))\n",
    "    train_score.append(tr_score)\n",
    "    valid_score.append(val_score)\n",
    "    valid_gain.append(val_gain)"
   ]
  },
  {
   "cell_type": "code",
   "execution_count": 48,
   "metadata": {},
   "outputs": [
    {
     "data": {
      "image/png": "[encoded data removed]",
      "text/plain": [
       "<matplotlib.figure.Figure at 0x297d20987b8>"
      ]
     },
     "metadata": {},
     "output_type": "display_data"
    }
   ],
   "source": [
    "fig = plt.figure()\n",
    "ax=fig.add_subplot(111)\n",
    "plt.plot(tree_size, train_score, 'r', label = 'train score')\n",
    "plt.plot(tree_size, valid_score, 'g', label = 'validation score')\n",
    "ax.set_xlabel('Number of trees')\n",
    "ax.set_ylabel('F1 Score')\n",
    "plt.title('F1 score Vs number of trees')\n",
    "plt.savefig(\"D:/Courses/DSGA1003/project/score_tree.png\",dpi=1000)"
   ]
  },
  {
   "cell_type": "code",
   "execution_count": 49,
   "metadata": {},
   "outputs": [
    {
     "data": {
      "image/png": "[encoded data removed]",
      "text/plain": [
       "<matplotlib.figure.Figure at 0x29782f97908>"
      ]
     },
     "metadata": {},
     "output_type": "display_data"
    }
   ],
   "source": [
    "plt.plot(tree_size, valid_gain, 'b',label = 'validation gain')\n",
    "ax.set_xlabel('Number of trees')\n",
    "ax.set_ylabel('Gain of prediction')\n",
    "plt.title('Gain Vs. number of trees')\n",
    "plt.savefig(\"D:/Courses/DSGA1003/project/gain_tree.png\",dpi=1000)"
   ]
  },
  {
   "cell_type": "code",
   "execution_count": 39,
   "metadata": {},
   "outputs": [],
   "source": [
    "tree_depth = [2,3,4,5,6,7,8,9,10,15,20,30,50,100,200,500]\n",
    "train_score = []\n",
    "valid_score = []\n",
    "valid_gain = []\n",
    "for t in tree_depth:\n",
    "    clf = DecisionTreeClassifier(class_weight={0:0.24, 1:1.23, 2:1.53}, criterion='gini', max_depth = t,\n",
    "                            max_features=None, max_leaf_nodes=None, min_samples_leaf=20,\n",
    "                            min_samples_split=20, presort=False, random_state=None, splitter='best')\n",
    "    clf.fit(x_train, y_train)\n",
    "    tr_score = f1_score(y_train, clf.predict(x_train), average='macro')\n",
    "    val_score = f1_score(y_valid, clf.predict(x_valid), average='macro')\n",
    "    tr_gain = get_gain(eval_matrix,confusion_matrix(y_train, clf.predict(x_train)))\n",
    "    val_gain = get_gain(eval_matrix,confusion_matrix(y_valid, clf.predict(x_valid)))\n",
    "    train_score.append(tr_score)\n",
    "    valid_score.append(val_score)\n",
    "    valid_gain.append(val_gain)"
   ]
  },
  {
   "cell_type": "code",
   "execution_count": 45,
   "metadata": {},
   "outputs": [
    {
     "data": {
      "image/png": "[encoded data removed]",
      "text/plain": [
       "<matplotlib.figure.Figure at 0x297d225de10>"
      ]
     },
     "metadata": {},
     "output_type": "display_data"
    }
   ],
   "source": [
    "fig = plt.figure()\n",
    "ax=fig.add_subplot(111)\n",
    "plt.plot(tree_depth, train_score, 'r', label = 'train score')\n",
    "plt.plot(tree_depth, valid_score, 'g', label = 'validation score')\n",
    "ax.set_xlabel('depth of tree')\n",
    "ax.set_ylabel('F1 Score')\n",
    "plt.title('F1 score Vs depth of tree')\n",
    "plt.savefig(\"D:/Courses/DSGA1003/project/score_dt.png\",dpi=1000)"
   ]
  },
  {
   "cell_type": "code",
   "execution_count": 46,
   "metadata": {},
   "outputs": [
    {
     "data": {
      "image/png": "[encoded data removed]",
      "text/plain": [
       "<matplotlib.figure.Figure at 0x297d2267e80>"
      ]
     },
     "metadata": {},
     "output_type": "display_data"
    }
   ],
   "source": [
    "plt.plot(tree_depth, valid_gain, 'b',label = 'validation gain')\n",
    "ax.set_xlabel('Depth of tree')\n",
    "ax.set_ylabel('Gain of prediction')\n",
    "plt.title('Gain Vs. depth of tree')\n",
    "plt.savefig(\"D:/Courses/DSGA1003/project/gain_dt.png\",dpi=1000)"
   ]
  },
  {
   "cell_type": "markdown",
   "metadata": {},
   "source": [
    "## ROC"
   ]
  },
  {
   "cell_type": "code",
   "execution_count": 365,
   "metadata": {},
   "outputs": [
    {
     "data": {
      "image/png": "[encoded data removed]",
      "text/plain": [
       "<matplotlib.figure.Figure at 0x1fd116ca240>"
      ]
     },
     "metadata": {},
     "output_type": "display_data"
    }
   ],
   "source": [
    "from sklearn.metrics import roc_curve\n",
    "from itertools import cycle\n",
    "predict = rf1.predict_proba(x_valid)\n",
    "fpr = dict()\n",
    "tpr = dict()\n",
    "roc_auc = dict()\n",
    "lw = 2\n",
    "\n",
    "colors = cycle(['aqua', 'darkorange', 'cornflowerblue'])\n",
    "for i in range(3):\n",
    "    fpr[i], tpr[i], _ = roc_curve(y_valid == i, predict[:, i])\n",
    "    roc_auc[i] = auc(fpr[i], tpr[i])\n",
    "\n",
    "for i, color in zip(range(3), colors):\n",
    "    plt.plot(fpr[i], tpr[i], color=color, lw=lw,\n",
    "             label='ROC curve of class {0} (area = {1:0.2f})'\n",
    "             ''.format(i, roc_auc[i]))\n",
    "\n",
    "plt.plot([0, 1], [0, 1], 'k--', lw=lw)\n",
    "plt.xlim([0.0, 1.0])\n",
    "plt.ylim([0.0, 1.05])\n",
    "plt.xlabel('False Positive Rate')\n",
    "plt.ylabel('True Positive Rate')\n",
    "plt.title('Receiver operating characteristic to multi-class')\n",
    "plt.legend(loc=\"lower right\")\n",
    "plt.show()"
   ]
  },
  {
   "cell_type": "markdown",
   "metadata": {},
   "source": [
    "## Precision Recall Curve"
   ]
  },
  {
   "cell_type": "code",
   "execution_count": 366,
   "metadata": {},
   "outputs": [
    {
     "data": {
      "image/png": "[encoded data removed]",
      "text/plain": [
       "<matplotlib.figure.Figure at 0x1fd115e6080>"
      ]
     },
     "metadata": {},
     "output_type": "display_data"
    }
   ],
   "source": [
    "from sklearn.metrics import precision_recall_curve\n",
    "from sklearn.metrics import average_precision_score\n",
    "from itertools import cycle\n",
    "predict = rf1.predict_proba(x_valid)\n",
    "precision = dict()\n",
    "recall = dict()\n",
    "average_precision = dict()\n",
    "lw = 2\n",
    "\n",
    "colors = cycle(['darkorchid', 'aqua', 'black'])\n",
    "for i in range(3):\n",
    "    precision[i], recall[i], _ = precision_recall_curve(y_valid == i, predict[:, i])\n",
    "    average_precision[i] = average_precision_score(y_valid == i, predict[:, i])\n",
    "\n",
    "for i, color in zip(range(3), colors):\n",
    "    plt.plot(recall[i], precision[i], color=color, lw=lw,\n",
    "             label='Precision-recall curve of class {0} (area = {1:0.2f})'\n",
    "                   ''.format(i, average_precision[i]))\n",
    "\n",
    "\n",
    "plt.xlim([0.0, 1.0])\n",
    "plt.ylim([0.0, 1.05])\n",
    "plt.xlabel('Recall')\n",
    "plt.ylabel('Precision')\n",
    "plt.title('Precision-Recall curve of multi-class')\n",
    "plt.legend(loc=\"lower right\")\n",
    "plt.savefig(\"D:/Courses/DSGA1003/project/precision_recall_curve.png\",dpi=1000)\n",
    "plt.show()"
   ]
  },
  {
   "cell_type": "markdown",
   "metadata": {},
   "source": [
    "## Feature Importance"
   ]
  },
  {
   "cell_type": "code",
   "execution_count": 367,
   "metadata": {
    "scrolled": true
   },
   "outputs": [],
   "source": [
    "importances = rf1.feature_importances_"
   ]
  },
  {
   "cell_type": "code",
   "execution_count": 368,
   "metadata": {},
   "outputs": [],
   "source": [
    "std = np.std([tree.feature_importances_ for tree in rf1.estimators_],\n",
    "             axis=0)\n",
    "indices = np.argsort(importances)[::-1]"
   ]
  },
  {
   "cell_type": "code",
   "execution_count": 369,
   "metadata": {},
   "outputs": [
    {
     "data": {
      "text/plain": [
       "'word_count'"
      ]
     },
     "execution_count": 369,
     "metadata": {},
     "output_type": "execute_result"
    }
   ],
   "source": [
    "x_valid.columns[0]"
   ]
  },
  {
   "cell_type": "code",
   "execution_count": 370,
   "metadata": {
    "scrolled": false
   },
   "outputs": [
    {
     "name": "stdout",
     "output_type": "stream",
     "text": [
      "1. feature word_count (0.164212)\n",
      "2. feature section_name_Opinion (0.114306)\n",
      "3. feature auth_c (0.069941)\n",
      "4. feature count_neg_word (0.054181)\n",
      "5. feature ave_pos_polarity (0.049213)\n",
      "6. feature abstract_word_cnt (0.041122)\n",
      "7. feature max_pos_polarity (0.036939)\n",
      "8. feature count_pos_word (0.035649)\n",
      "9. feature section_name_Magazine (0.033752)\n",
      "10. feature min_pos_polarity (0.031581)\n",
      "11. feature abstract_unique_nonstopword_cnt (0.026253)\n",
      "12. feature section_name_Food (0.025981)\n",
      "13. feature abstract_nonstopword_cnt (0.022054)\n",
      "14. feature section_name_U.S. (0.021322)\n",
      "15. feature headline_word_cnt (0.020878)\n",
      "16. feature abstract_subjectivity (0.018308)\n",
      "17. feature section_name_The Upshot (0.016393)\n",
      "18. feature section_name_false (0.016156)\n",
      "19. feature snippet_subjectivity (0.015821)\n",
      "20. feature snippet_word_cnt (0.015514)\n"
     ]
    }
   ],
   "source": [
    "for f in range(20):\n",
    "    print(\"%d. feature %s (%f)\" % (f + 1, x_valid.columns[indices[f]], importances[indices[f]]))"
   ]
  },
  {
   "cell_type": "code",
   "execution_count": 371,
   "metadata": {},
   "outputs": [],
   "source": [
    "imp = []\n",
    "feat = []\n",
    "for i in range(20):\n",
    "    imp_i = importances[indices[i]]\n",
    "    feat_i = x_valid.columns[indices[i]]\n",
    "    imp.append(imp_i)\n",
    "    feat.append(feat_i)"
   ]
  },
  {
   "cell_type": "code",
   "execution_count": 374,
   "metadata": {
    "scrolled": false
   },
   "outputs": [
    {
     "data": {
      "image/png": "[encoded data removed]",
      "text/plain": [
       "<matplotlib.figure.Figure at 0x1fd11de3b38>"
      ]
     },
     "metadata": {},
     "output_type": "display_data"
    }
   ],
   "source": [
    "fig, ax = plt.subplots()\n",
    "width=0.5\n",
    "fig.set_size_inches(16, 10, forward=True)\n",
    "ax.bar(np.arange(len(imp))+0.25, imp, width, color='purple')\n",
    "ax.set_xticks(np.arange(len(imp))+0.5)\n",
    "ax.set_xticklabels(feat,rotation=45,ha='right')\n",
    "#ax.set_xticklabels(feat, rotation=45,ha='right', minor=False)\n",
    "\n",
    "plt.title('Feature Importance from RF')\n",
    "ax.set_ylabel('Normalized Gini Importance')\n",
    "plt.savefig(\"D:/Courses/DSGA1003/project/top20_feats.png\",dpi=1000)"
   ]
  },
  {
   "cell_type": "code",
   "execution_count": null,
   "metadata": {
    "collapsed": true
   },
   "outputs": [],
   "source": []
  },
  {
   "cell_type": "code",
   "execution_count": null,
   "metadata": {
    "collapsed": true
   },
   "outputs": [],
   "source": []
  },
  {
   "cell_type": "markdown",
   "metadata": {},
   "source": [
    "## Ignore evrything below......................................"
   ]
  },
  {
   "cell_type": "code",
   "execution_count": null,
   "metadata": {
    "collapsed": true
   },
   "outputs": [],
   "source": []
  },
  {
   "cell_type": "code",
   "execution_count": 87,
   "metadata": {},
   "outputs": [
    {
     "name": "stdout",
     "output_type": "stream",
     "text": [
      "-- Grid Parameter Search via 10-fold CV\n",
      "\n",
      "GridSearchCV took 206.30 seconds for 32 candidate parameter settings.\n",
      "Model with rank: 1\n",
      "Mean validation score: 0.711 (std: 0.010)\n",
      "Parameters: {'criterion': 'gini', 'n_estimators': 100, 'max_features': 'auto', 'min_samples_leaf': 10, 'max_leaf_nodes': None, 'max_depth': None, 'min_samples_split': 2}\n",
      "\n",
      "Model with rank: 2\n",
      "Mean validation score: 0.711 (std: 0.011)\n",
      "Parameters: {'criterion': 'gini', 'n_estimators': 100, 'max_features': 'auto', 'min_samples_leaf': 10, 'max_leaf_nodes': None, 'max_depth': None, 'min_samples_split': 20}\n",
      "\n",
      "Model with rank: 3\n",
      "Mean validation score: 0.709 (std: 0.009)\n",
      "Parameters: {'criterion': 'gini', 'n_estimators': 50, 'max_features': 'auto', 'min_samples_leaf': 10, 'max_leaf_nodes': None, 'max_depth': None, 'min_samples_split': 20}\n",
      "\n"
     ]
    }
   ],
   "source": [
    "'''\n",
    "Weighted tree and weighted F1 score\n",
    "'''\n",
    "\n",
    "print(\"-- Grid Parameter Search via 10-fold CV\")\n",
    "\n",
    "# set of parameters to test\n",
    "param_grid = {\"criterion\": [\"gini\"],\n",
    "              \"n_estimators\":[50,100],\n",
    "              \"max_features\":[\"auto\",\"log2\"],\n",
    "              \"max_depth\": [None,10],\n",
    "              \"min_samples_split\": [2,20],\n",
    "              \"max_leaf_nodes\": [None],\n",
    "              \"min_samples_leaf\": [10,100]\n",
    "              }\n",
    "#grid_para_forest = {'criterion': ['gini', 'entropy'], 'max_depth': range(2, 20), \"n_estimators\": range(10, 100, 10)}\n",
    "rf = RandomForestClassifier(n_jobs = 2,class_weight={0:0.1, 1:0.3, 2:0.6})\n",
    "ts_gs = run_gridsearch(x_train, y_train, rf, param_grid,'f1_macro', cv=10)"
   ]
  },
  {
   "cell_type": "code",
   "execution_count": 152,
   "metadata": {},
   "outputs": [
    {
     "name": "stdout",
     "output_type": "stream",
     "text": [
      "F1 scores:\n",
      "Weighted: 0.721480776448\n",
      "Class 0: 0.898386708404\n",
      "Class 1: 0.637853949329\n",
      "Class 2: 0.62820167161\n"
     ]
    }
   ],
   "source": [
    "from sklearn.metrics import f1_score\n",
    "print('F1 scores:')\n",
    "predict = rf1.predict(x_valid)\n",
    "print('Weighted:', f1_score(y_valid, predict, average='macro'))\n",
    "print('Class 0:',f1_score(y_valid == 0, predict == 0))\n",
    "print('Class 1:',f1_score(y_valid == 1, predict == 1))\n",
    "print('Class 2:',f1_score(y_valid == 2, predict == 2))"
   ]
  },
  {
   "cell_type": "code",
   "execution_count": 205,
   "metadata": {},
   "outputs": [
    {
     "data": {
      "text/plain": [
       "array([[7462,  495,  583],\n",
       "       [ 267, 1070,  292],\n",
       "       [ 343,  161, 1165]])"
      ]
     },
     "execution_count": 205,
     "metadata": {},
     "output_type": "execute_result"
    }
   ],
   "source": [
    "pred_matrix = confusion_matrix(y_valid, rf1.predict(x_valid))\n",
    "pred_matrix"
   ]
  },
  {
   "cell_type": "code",
   "execution_count": 195,
   "metadata": {},
   "outputs": [
    {
     "data": {
      "text/plain": [
       "1165"
      ]
     },
     "execution_count": 195,
     "metadata": {},
     "output_type": "execute_result"
    }
   ],
   "source": [
    "pred_matrix[2,2]"
   ]
  },
  {
   "cell_type": "code",
   "execution_count": 196,
   "metadata": {},
   "outputs": [],
   "source": [
    "gain_matrix = np.array([[pred_matrix[0,0]*eval_matrix[0,0],pred_matrix[0,1]*eval_matrix[0,1],pred_matrix[0,2]*eval_matrix[0,2]],\n",
    "                       [pred_matrix[1,0]*eval_matrix[1,0],pred_matrix[1,1]*eval_matrix[1,1],pred_matrix[1,2]*eval_matrix[1,2]],\n",
    "                       [pred_matrix[2,0]*eval_matrix[2,0],pred_matrix[2,1]*eval_matrix[2,1],pred_matrix[2,2]*eval_matrix[2,2]]])"
   ]
  },
  {
   "cell_type": "code",
   "execution_count": 197,
   "metadata": {},
   "outputs": [
    {
     "data": {
      "text/plain": [
       "array([[22386,   990,     0],\n",
       "       [  534,  4280,   584],\n",
       "       [    0,   322,  5825]])"
      ]
     },
     "execution_count": 197,
     "metadata": {},
     "output_type": "execute_result"
    }
   ],
   "source": [
    "gain_matrix"
   ]
  },
  {
   "cell_type": "code",
   "execution_count": 198,
   "metadata": {},
   "outputs": [
    {
     "data": {
      "text/plain": [
       "34921"
      ]
     },
     "execution_count": 198,
     "metadata": {},
     "output_type": "execute_result"
    }
   ],
   "source": [
    "np.sum(gain_matrix)"
   ]
  },
  {
   "cell_type": "code",
   "execution_count": null,
   "metadata": {
    "collapsed": true
   },
   "outputs": [],
   "source": []
  },
  {
   "cell_type": "markdown",
   "metadata": {},
   "source": [
    "## ROC"
   ]
  },
  {
   "cell_type": "code",
   "execution_count": 208,
   "metadata": {},
   "outputs": [
    {
     "data": {
      "image/png": "[encoded data removed]",
      "text/plain": [
       "<matplotlib.figure.Figure at 0x1fd06f7df28>"
      ]
     },
     "metadata": {},
     "output_type": "display_data"
    }
   ],
   "source": [
    "from sklearn.metrics import roc_curve\n",
    "from itertools import cycle\n",
    "predict = rf1.predict_proba(x_valid)\n",
    "fpr = dict()\n",
    "tpr = dict()\n",
    "roc_auc = dict()\n",
    "lw = 2\n",
    "\n",
    "colors = cycle(['aqua', 'darkorange', 'cornflowerblue'])\n",
    "for i in range(3):\n",
    "    fpr[i], tpr[i], _ = roc_curve(y_valid == i, predict[:, i])\n",
    "    roc_auc[i] = auc(fpr[i], tpr[i])\n",
    "\n",
    "for i, color in zip(range(3), colors):\n",
    "    plt.plot(fpr[i], tpr[i], color=color, lw=lw,\n",
    "             label='ROC curve of class {0} (area = {1:0.2f})'\n",
    "             ''.format(i, roc_auc[i]))\n",
    "\n",
    "plt.plot([0, 1], [0, 1], 'k--', lw=lw)\n",
    "plt.xlim([0.0, 1.0])\n",
    "plt.ylim([0.0, 1.05])\n",
    "plt.xlabel('False Positive Rate')\n",
    "plt.ylabel('True Positive Rate')\n",
    "plt.title('Receiver operating characteristic to multi-class')\n",
    "plt.legend(loc=\"lower right\")\n",
    "plt.show()"
   ]
  },
  {
   "cell_type": "markdown",
   "metadata": {},
   "source": [
    "## Precision_Recall_Curve"
   ]
  },
  {
   "cell_type": "code",
   "execution_count": 214,
   "metadata": {},
   "outputs": [
    {
     "data": {
      "image/png": "[encoded data removed]",
      "text/plain": [
       "<matplotlib.figure.Figure at 0x1fd0711a0b8>"
      ]
     },
     "metadata": {},
     "output_type": "display_data"
    }
   ],
   "source": [
    "from sklearn.metrics import precision_recall_curve\n",
    "from sklearn.metrics import average_precision_score\n",
    "from itertools import cycle\n",
    "predict = rf1.predict_proba(x_valid)\n",
    "precision = dict()\n",
    "recall = dict()\n",
    "average_precision = dict()\n",
    "lw = 2\n",
    "\n",
    "colors = cycle(['aqua', 'darkorange', 'cornflowerblue'])\n",
    "for i in range(3):\n",
    "    precision[i], recall[i], _ = precision_recall_curve(y_valid == i, predict[:, i])\n",
    "    average_precision[i] = average_precision_score(y_valid == i, predict[:, i])\n",
    "\n",
    "for i, color in zip(range(3), colors):\n",
    "    plt.plot(recall[i], precision[i], color=color, lw=lw,\n",
    "             label='Precision-recall curve of class {0} (area = {1:0.2f})'\n",
    "                   ''.format(i, average_precision[i]))\n",
    "\n",
    "\n",
    "plt.xlim([0.0, 1.0])\n",
    "plt.ylim([0.0, 1.05])\n",
    "plt.xlabel('Recall')\n",
    "plt.ylabel('Precision')\n",
    "plt.title('Precision-Recall curve of multi-class')\n",
    "plt.legend(loc=\"lower right\")\n",
    "plt.savefig(\"D:/Courses/DSGA1003/project/precision_recall_curve.png\",dpi=1000)\n",
    "plt.show()"
   ]
  },
  {
   "cell_type": "code",
   "execution_count": 30,
   "metadata": {},
   "outputs": [
    {
     "name": "stdout",
     "output_type": "stream",
     "text": [
      "-- Grid Parameter Search via 10-fold CV\n",
      "\n",
      "GridSearchCV took 2174.60 seconds for 96 candidate parameter settings.\n",
      "Model with rank: 1\n",
      "Mean validation score: 0.832 (std: 0.006)\n",
      "Parameters: {'n_estimators': 100, 'max_depth': None, 'max_features': None, 'criterion': 'gini', 'max_leaf_nodes': None, 'min_samples_leaf': 10, 'min_samples_split': 2}\n",
      "\n",
      "Model with rank: 2\n",
      "Mean validation score: 0.832 (std: 0.006)\n",
      "Parameters: {'criterion': 'gini', 'n_estimators': 50, 'max_leaf_nodes': None, 'min_samples_leaf': 10, 'max_features': None, 'max_depth': None, 'min_samples_split': 2}\n",
      "\n",
      "Model with rank: 3\n",
      "Mean validation score: 0.813 (std: 0.007)\n",
      "Parameters: {'n_estimators': 100, 'max_depth': None, 'max_leaf_nodes': None, 'min_samples_leaf': 10, 'max_features': 'auto', 'criterion': 'gini', 'min_samples_split': 2}\n",
      "\n"
     ]
    }
   ],
   "source": [
    "'''\n",
    "Weighted tree and weighted F1 score\n",
    "'''\n",
    "\n",
    "print(\"-- Grid Parameter Search via 10-fold CV\")\n",
    "\n",
    "# set of parameters to test\n",
    "param_grid = {\"criterion\": [\"gini\"],\n",
    "              \"n_estimators\":[50,100],\n",
    "              \"max_features\":[\"auto\",\"log2\",None],\n",
    "              \"max_depth\": [None,10],\n",
    "              \"min_samples_split\": [2,100],\n",
    "              \"max_leaf_nodes\": [None,50],\n",
    "              \"min_samples_leaf\": [10,100]\n",
    "              }\n",
    "#grid_para_forest = {'criterion': ['gini', 'entropy'], 'max_depth': range(2, 20), \"n_estimators\": range(10, 100, 10)}\n",
    "rf = RandomForestClassifier(n_jobs = 2,class_weight={0:0.1, 1:0.3, 2:0.6})\n",
    "ts_gs = run_gridsearch(x_train, y_train, rf, param_grid,'f1_weighted', cv=10)"
   ]
  },
  {
   "cell_type": "code",
   "execution_count": 36,
   "metadata": {},
   "outputs": [
    {
     "data": {
      "text/plain": [
       "0.88517268117100245"
      ]
     },
     "execution_count": 36,
     "metadata": {},
     "output_type": "execute_result"
    }
   ],
   "source": [
    "rf1 = RandomForestClassifier(n_jobs = 2,class_weight={0:0.1, 1:0.3, 2:0.6},n_estimators = 100, max_depth = None, \n",
    "                             max_features = None, max_leaf_nodes = None, min_samples_leaf = 10, min_samples_split = 2)\n",
    "rf1.fit(x_valid, y_valid)\n",
    "f1_score(y_valid, rf1.predict(x_valid), average='weighted')"
   ]
  },
  {
   "cell_type": "code",
   "execution_count": 40,
   "metadata": {},
   "outputs": [
    {
     "data": {
      "text/plain": [
       "0.88131441121811116"
      ]
     },
     "execution_count": 40,
     "metadata": {},
     "output_type": "execute_result"
    }
   ],
   "source": [
    "rf1.score(x_valid, y_valid)"
   ]
  },
  {
   "cell_type": "code",
   "execution_count": 75,
   "metadata": {},
   "outputs": [
    {
     "data": {
      "text/plain": [
       "array([[7663,  442,  435],\n",
       "       [ 182, 1226,  221],\n",
       "       [  63,   62, 1544]])"
      ]
     },
     "execution_count": 75,
     "metadata": {},
     "output_type": "execute_result"
    }
   ],
   "source": [
    "confusion_matrix(y_valid, rf1.predict(x_valid))"
   ]
  },
  {
   "cell_type": "code",
   "execution_count": 53,
   "metadata": {},
   "outputs": [
    {
     "name": "stdout",
     "output_type": "stream",
     "text": [
      "-- Grid Parameter Search via 10-fold CV\n",
      "\n",
      "GridSearchCV took 3166.60 seconds for 18 candidate parameter settings.\n",
      "Model with rank: 1\n",
      "Mean validation score: 0.849 (std: 0.004)\n",
      "Parameters: {'criterion': 'gini', 'n_estimators': 500, 'max_features': None, 'min_samples_leaf': 2, 'max_leaf_nodes': None, 'max_depth': None, 'min_samples_split': 2}\n",
      "\n",
      "Model with rank: 2\n",
      "Mean validation score: 0.847 (std: 0.005)\n",
      "Parameters: {'n_estimators': 500, 'max_leaf_nodes': None, 'min_samples_leaf': 2, 'max_depth': None, 'max_features': None, 'criterion': 'gini', 'min_samples_split': 10}\n",
      "\n",
      "Model with rank: 3\n",
      "Mean validation score: 0.843 (std: 0.004)\n",
      "Parameters: {'criterion': 'gini', 'n_estimators': 500, 'max_features': None, 'min_samples_leaf': 5, 'max_leaf_nodes': None, 'max_depth': None, 'min_samples_split': 2}\n",
      "\n"
     ]
    }
   ],
   "source": [
    "'''\n",
    "2nd grid search for Weighted tree and weighted F1 score\n",
    "'''\n",
    "\n",
    "print(\"-- Grid Parameter Search via 10-fold CV\")\n",
    "\n",
    "# set of parameters to test\n",
    "param_grid = {\"criterion\": [\"gini\"],\n",
    "              \"n_estimators\":[500],\n",
    "              \"max_features\":[\"auto\",\"log2\",None],\n",
    "              \"max_depth\": [None],\n",
    "              \"min_samples_split\": [2,10],\n",
    "              \"max_leaf_nodes\": [None],\n",
    "              \"min_samples_leaf\": [2,5,10]\n",
    "              }\n",
    "#grid_para_forest = {'criterion': ['gini', 'entropy'], 'max_depth': range(2, 20), \"n_estimators\": range(10, 100, 10)}\n",
    "rf = RandomForestClassifier(n_jobs = 2,class_weight={0:0.1, 1:0.3, 2:0.6})\n",
    "ts_gs = run_gridsearch(x_train, y_train, rf, param_grid,'f1_micro', cv=10)"
   ]
  },
  {
   "cell_type": "code",
   "execution_count": 58,
   "metadata": {},
   "outputs": [
    {
     "data": {
      "text/plain": [
       "0.84347018077377933"
      ]
     },
     "execution_count": 58,
     "metadata": {},
     "output_type": "execute_result"
    }
   ],
   "source": [
    "rf2 = RandomForestClassifier(n_jobs = 2,class_weight={0:0.1, 1:0.3, 2:0.6},n_estimators = 500, max_depth = None, \n",
    "                             max_features = None, max_leaf_nodes = None, min_samples_leaf = 2, min_samples_split = 2)\n",
    "rf2.fit(x_train, y_train)\n",
    "f1_score(y_valid, rf2.predict(x_valid), average='micro')"
   ]
  },
  {
   "cell_type": "code",
   "execution_count": 60,
   "metadata": {},
   "outputs": [
    {
     "data": {
      "text/plain": [
       "0.83901101097280839"
      ]
     },
     "execution_count": 60,
     "metadata": {},
     "output_type": "execute_result"
    }
   ],
   "source": [
    "rf2 = RandomForestClassifier(n_jobs = 2,class_weight={0:0.1, 1:0.3, 2:0.6},n_estimators = 500, max_depth = None, \n",
    "                             max_features = None, max_leaf_nodes = None, min_samples_leaf = 2, min_samples_split = 2)\n",
    "rf2.fit(x_train, y_train)\n",
    "f1_score(y_valid, rf2.predict(x_valid), average='weighted')"
   ]
  },
  {
   "cell_type": "code",
   "execution_count": 61,
   "metadata": {},
   "outputs": [
    {
     "data": {
      "text/plain": [
       "array([[8026,  349,  165],\n",
       "       [ 395, 1030,  204],\n",
       "       [ 546,  186,  937]])"
      ]
     },
     "execution_count": 61,
     "metadata": {},
     "output_type": "execute_result"
    }
   ],
   "source": [
    "confusion_matrix(y_valid, rf2.predict(x_valid))"
   ]
  },
  {
   "cell_type": "code",
   "execution_count": 62,
   "metadata": {},
   "outputs": [
    {
     "data": {
      "text/plain": [
       "0.83895592778242534"
      ]
     },
     "execution_count": 62,
     "metadata": {},
     "output_type": "execute_result"
    }
   ],
   "source": [
    "rf2 = RandomForestClassifier(n_jobs = 2,class_weight={0:0.1, 1:0.3, 2:0.6},n_estimators = 500, max_depth = None, \n",
    "                             max_features = None, max_leaf_nodes = None, min_samples_leaf = 2, min_samples_split = 10)\n",
    "rf2.fit(x_train, y_train)\n",
    "f1_score(y_valid, rf2.predict(x_valid), average='weighted')"
   ]
  },
  {
   "cell_type": "code",
   "execution_count": 63,
   "metadata": {},
   "outputs": [
    {
     "data": {
      "text/plain": [
       "array([[7877,  414,  249],\n",
       "       [ 336, 1065,  228],\n",
       "       [ 483,  175, 1011]])"
      ]
     },
     "execution_count": 63,
     "metadata": {},
     "output_type": "execute_result"
    }
   ],
   "source": [
    "confusion_matrix(y_valid, rf2.predict(x_valid))"
   ]
  },
  {
   "cell_type": "code",
   "execution_count": 64,
   "metadata": {},
   "outputs": [
    {
     "data": {
      "text/plain": [
       "0.83987220584774824"
      ]
     },
     "execution_count": 64,
     "metadata": {},
     "output_type": "execute_result"
    }
   ],
   "source": [
    "rf2 = RandomForestClassifier(n_jobs = 2,n_estimators = 500, max_depth = None, \n",
    "                             max_features = None, max_leaf_nodes = None, min_samples_leaf = 2, min_samples_split = 10)\n",
    "rf2.fit(x_train, y_train)\n",
    "f1_score(y_valid, rf2.predict(x_valid), average='weighted')"
   ]
  },
  {
   "cell_type": "code",
   "execution_count": 65,
   "metadata": {},
   "outputs": [
    {
     "data": {
      "text/plain": [
       "0.84701807737793544"
      ]
     },
     "execution_count": 65,
     "metadata": {},
     "output_type": "execute_result"
    }
   ],
   "source": [
    "rf2 = RandomForestClassifier(n_jobs = 2,n_estimators = 500, max_depth = None, \n",
    "                             max_features = None, max_leaf_nodes = None, min_samples_leaf = 2, min_samples_split = 10)\n",
    "rf2.fit(x_train, y_train)\n",
    "f1_score(y_valid, rf2.predict(x_valid), average='micro')"
   ]
  },
  {
   "cell_type": "code",
   "execution_count": 66,
   "metadata": {},
   "outputs": [
    {
     "data": {
      "text/plain": [
       "array([ 0.91869228,  0.64614408,  0.62100139])"
      ]
     },
     "execution_count": 66,
     "metadata": {},
     "output_type": "execute_result"
    }
   ],
   "source": [
    "rf2 = RandomForestClassifier(n_jobs = 2,n_estimators = 500, max_depth = None, \n",
    "                             max_features = None, max_leaf_nodes = None, min_samples_leaf = 2, min_samples_split = 10)\n",
    "rf2.fit(x_train, y_train)\n",
    "f1_score(y_valid, rf2.predict(x_valid), average=None)"
   ]
  },
  {
   "cell_type": "code",
   "execution_count": 67,
   "metadata": {},
   "outputs": [
    {
     "data": {
      "text/plain": [
       "0.84017570535563435"
      ]
     },
     "execution_count": 67,
     "metadata": {},
     "output_type": "execute_result"
    }
   ],
   "source": [
    "rf2 = RandomForestClassifier(n_jobs = 2,class_weight={0:0.1, 1:0.3, 2:0.6},n_estimators = 500, max_depth = None, \n",
    "                             max_features = None, max_leaf_nodes = None, min_samples_leaf = 2, min_samples_split = 10)\n",
    "rf2.fit(x_train, y_train)\n",
    "f1_score(y_valid, rf2.predict(x_valid), average='micro')"
   ]
  },
  {
   "cell_type": "code",
   "execution_count": 68,
   "metadata": {},
   "outputs": [
    {
     "data": {
      "text/plain": [
       "0.73313979153369535"
      ]
     },
     "execution_count": 68,
     "metadata": {},
     "output_type": "execute_result"
    }
   ],
   "source": [
    "rf2 = RandomForestClassifier(n_jobs = 2,class_weight={0:0.1, 1:0.3, 2:0.6},n_estimators = 500, max_depth = None, \n",
    "                             max_features = None, max_leaf_nodes = None, min_samples_leaf = 2, min_samples_split = 10)\n",
    "rf2.fit(x_train, y_train)\n",
    "f1_score(y_valid, rf2.predict(x_valid), average='macro')"
   ]
  },
  {
   "cell_type": "code",
   "execution_count": 69,
   "metadata": {},
   "outputs": [
    {
     "data": {
      "text/plain": [
       "0.84535218468587447"
      ]
     },
     "execution_count": 69,
     "metadata": {},
     "output_type": "execute_result"
    }
   ],
   "source": [
    "rf2.fit(x_train, y_train)\n",
    "f1_score(y_test, rf2.predict(x_test), average='weighted')"
   ]
  },
  {
   "cell_type": "code",
   "execution_count": 72,
   "metadata": {},
   "outputs": [
    {
     "name": "stdout",
     "output_type": "stream",
     "text": [
      "-- Grid Parameter Search via 10-fold CV\n",
      "\n",
      "GridSearchCV took 316.94 seconds for 12 candidate parameter settings.\n",
      "Model with rank: 1\n",
      "Mean validation score: 0.845 (std: 0.005)\n",
      "Parameters: {'n_estimators': 200, 'max_depth': None, 'max_features': 10, 'min_samples_leaf': 2, 'max_leaf_nodes': None, 'criterion': 'gini', 'min_samples_split': 2}\n",
      "\n",
      "Model with rank: 2\n",
      "Mean validation score: 0.842 (std: 0.006)\n",
      "Parameters: {'n_estimators': 200, 'max_depth': None, 'max_features': 'auto', 'min_samples_leaf': 2, 'max_leaf_nodes': None, 'criterion': 'gini', 'min_samples_split': 2}\n",
      "\n",
      "Model with rank: 3\n",
      "Mean validation score: 0.839 (std: 0.006)\n",
      "Parameters: {'n_estimators': 200, 'max_features': 10, 'min_samples_leaf': 2, 'criterion': 'gini', 'max_leaf_nodes': None, 'max_depth': None, 'min_samples_split': 10}\n",
      "\n"
     ]
    }
   ],
   "source": [
    "'''\n",
    "3rd grid search for Weighted tree and weighted F1 score\n",
    "'''\n",
    "\n",
    "print(\"-- Grid Parameter Search via 10-fold CV\")\n",
    "\n",
    "# set of parameters to test\n",
    "param_grid = {\"criterion\": [\"gini\"],\n",
    "              \"n_estimators\":[200],\n",
    "              \"max_features\":[\"auto\",\"log2\",10],\n",
    "              \"max_depth\": [None],\n",
    "              \"min_samples_split\": [2,10],\n",
    "              \"max_leaf_nodes\": [None],\n",
    "              \"min_samples_leaf\": [2,10]\n",
    "              }\n",
    "#grid_para_forest = {'criterion': ['gini', 'entropy'], 'max_depth': range(2, 20), \"n_estimators\": range(10, 100, 10)}\n",
    "rf = RandomForestClassifier(n_jobs = 2,class_weight={0:0.1, 1:0.3, 2:0.6})\n",
    "ts_gs = run_gridsearch(x_train, y_train, rf, param_grid,'f1_micro', cv=10)"
   ]
  },
  {
   "cell_type": "code",
   "execution_count": null,
   "metadata": {
    "collapsed": true
   },
   "outputs": [],
   "source": []
  },
  {
   "cell_type": "code",
   "execution_count": 31,
   "metadata": {},
   "outputs": [
    {
     "name": "stdout",
     "output_type": "stream",
     "text": [
      "-- Grid Parameter Search via 10-fold CV\n",
      "\n",
      "GridSearchCV took 2180.46 seconds for 96 candidate parameter settings.\n",
      "Model with rank: 1\n",
      "Mean validation score: 0.827 (std: 0.005)\n",
      "Parameters: {'n_estimators': 100, 'max_depth': None, 'max_leaf_nodes': None, 'criterion': 'gini', 'max_features': None, 'min_samples_leaf': 10, 'min_samples_split': 2}\n",
      "\n",
      "Model with rank: 2\n",
      "Mean validation score: 0.825 (std: 0.004)\n",
      "Parameters: {'n_estimators': 50, 'max_features': None, 'min_samples_leaf': 10, 'max_depth': None, 'max_leaf_nodes': None, 'criterion': 'gini', 'min_samples_split': 2}\n",
      "\n",
      "Model with rank: 3\n",
      "Mean validation score: 0.805 (std: 0.009)\n",
      "Parameters: {'n_estimators': 100, 'max_depth': None, 'max_leaf_nodes': None, 'min_samples_leaf': 10, 'max_features': 'auto', 'criterion': 'gini', 'min_samples_split': 2}\n",
      "\n"
     ]
    }
   ],
   "source": [
    "'''\n",
    "Weighted tree and accuracy\n",
    "'''\n",
    "\n",
    "print(\"-- Grid Parameter Search via 10-fold CV\")\n",
    "\n",
    "# set of parameters to test\n",
    "param_grid = {\"criterion\": [\"gini\"],\n",
    "              \"n_estimators\":[50,100],\n",
    "              \"max_features\":[\"auto\",\"log2\",None],\n",
    "              \"max_depth\": [None,10],\n",
    "              \"min_samples_split\": [2,100],\n",
    "              \"max_leaf_nodes\": [None,50],\n",
    "              \"min_samples_leaf\": [10,100]\n",
    "              }\n",
    "#grid_para_forest = {'criterion': ['gini', 'entropy'], 'max_depth': range(2, 20), \"n_estimators\": range(10, 100, 10)}\n",
    "rf = RandomForestClassifier(n_jobs = 2,class_weight={0:0.1, 1:0.3, 2:0.6})\n",
    "ts_gs = run_gridsearch(x_train, y_train, rf, param_grid, None, cv=10)"
   ]
  },
  {
   "cell_type": "code",
   "execution_count": 32,
   "metadata": {},
   "outputs": [
    {
     "name": "stdout",
     "output_type": "stream",
     "text": [
      "-- Grid Parameter Search via 10-fold CV\n",
      "\n",
      "GridSearchCV took 1780.27 seconds for 96 candidate parameter settings.\n",
      "Model with rank: 1\n",
      "Mean validation score: 0.851 (std: 0.005)\n",
      "Parameters: {'n_estimators': 100, 'max_depth': None, 'max_leaf_nodes': None, 'criterion': 'gini', 'max_features': None, 'min_samples_leaf': 10, 'min_samples_split': 2}\n",
      "\n",
      "Model with rank: 2\n",
      "Mean validation score: 0.849 (std: 0.005)\n",
      "Parameters: {'n_estimators': 50, 'max_depth': None, 'max_leaf_nodes': None, 'criterion': 'gini', 'max_features': None, 'min_samples_leaf': 10, 'min_samples_split': 2}\n",
      "\n",
      "Model with rank: 3\n",
      "Mean validation score: 0.845 (std: 0.004)\n",
      "Parameters: {'n_estimators': 50, 'max_depth': 10, 'max_leaf_nodes': None, 'criterion': 'gini', 'max_features': None, 'min_samples_leaf': 10, 'min_samples_split': 2}\n",
      "\n"
     ]
    }
   ],
   "source": [
    "'''\n",
    "accuracy\n",
    "'''\n",
    "\n",
    "print(\"-- Grid Parameter Search via 10-fold CV\")\n",
    "\n",
    "# set of parameters to test\n",
    "param_grid = {\"criterion\": [\"gini\"],\n",
    "              \"n_estimators\":[50,100],\n",
    "              \"max_features\":[\"auto\",\"log2\",None],\n",
    "              \"max_depth\": [None,10],\n",
    "              \"min_samples_split\": [2,100],\n",
    "              \"max_leaf_nodes\": [None,50],\n",
    "              \"min_samples_leaf\": [10,100]\n",
    "              }\n",
    "#grid_para_forest = {'criterion': ['gini', 'entropy'], 'max_depth': range(2, 20), \"n_estimators\": range(10, 100, 10)}\n",
    "rf = RandomForestClassifier(n_jobs = 2)\n",
    "ts_gs = run_gridsearch(x_train, y_train, rf, param_grid, None, cv=10)"
   ]
  },
  {
   "cell_type": "markdown",
   "metadata": {},
   "source": [
    "## Decision Tree\n"
   ]
  },
  {
   "cell_type": "markdown",
   "metadata": {},
   "source": [
    "# weighted trees"
   ]
  },
  {
   "cell_type": "code",
   "execution_count": 15,
   "metadata": {},
   "outputs": [
    {
     "data": {
      "text/plain": [
       "DecisionTreeClassifier(class_weight={0: 0.11, 1: 0.3, 2: 0.6},\n",
       "            criterion='gini', max_depth=10, max_features=None,\n",
       "            max_leaf_nodes=None, min_samples_leaf=10, min_samples_split=20,\n",
       "            min_weight_fraction_leaf=0.0, presort=False, random_state=None,\n",
       "            splitter='best')"
      ]
     },
     "execution_count": 15,
     "metadata": {},
     "output_type": "execute_result"
    }
   ],
   "source": [
    "clf = DecisionTreeClassifier(class_weight={0:0.11, 1:0.3, 2:0.6}, criterion='gini', max_depth=10,\n",
    "                            max_features=None, max_leaf_nodes=None, min_samples_leaf=10,\n",
    "                            min_samples_split=20, min_weight_fraction_leaf=0.0,\n",
    "                            presort=False, random_state=None, splitter='best')\n",
    "clf.fit(x_train.drop(['word_count'],1), y_train)"
   ]
  },
  {
   "cell_type": "code",
   "execution_count": 16,
   "metadata": {},
   "outputs": [
    {
     "data": {
      "text/plain": [
       "0.76085487413414432"
      ]
     },
     "execution_count": 16,
     "metadata": {},
     "output_type": "execute_result"
    }
   ],
   "source": [
    "clf.score(x_valid.drop(['word_count'],1), y_valid)"
   ]
  },
  {
   "cell_type": "code",
   "execution_count": 17,
   "metadata": {},
   "outputs": [
    {
     "data": {
      "text/plain": [
       "0.77572321975822178"
      ]
     },
     "execution_count": 17,
     "metadata": {},
     "output_type": "execute_result"
    }
   ],
   "source": [
    "f1_score(y_valid, clf.predict(x_valid.drop(['word_count'],1)), average='weighted')"
   ]
  },
  {
   "cell_type": "code",
   "execution_count": 18,
   "metadata": {},
   "outputs": [
    {
     "data": {
      "text/plain": [
       "<matplotlib.text.Text at 0x1fd4cbf9f98>"
      ]
     },
     "execution_count": 18,
     "metadata": {},
     "output_type": "execute_result"
    },
    {
     "data": {
      "image/png": "[encoded data removed]",
      "text/plain": [
       "<matplotlib.figure.Figure at 0x1fd4cbc1c50>"
      ]
     },
     "metadata": {},
     "output_type": "display_data"
    }
   ],
   "source": [
    "fig, ax = plt.subplots()\n",
    "width=0.1\n",
    "fig.set_size_inches(18.5, 10.5, forward=True)\n",
    "ax.bar(np.arange(len(clf.feature_importances_)), clf.feature_importances_, width, color='r')\n",
    "ax.set_xticks(np.arange(len(clf.feature_importances_)))\n",
    "ax.set_xticklabels(x_valid.drop(['word_count'],1).columns.values,rotation=90)\n",
    "plt.title('Feature Importance from DT')\n",
    "ax.set_ylabel('Normalized Gini Importance')"
   ]
  },
  {
   "cell_type": "code",
   "execution_count": 19,
   "metadata": {},
   "outputs": [
    {
     "data": {
      "text/plain": [
       "DecisionTreeClassifier(class_weight={0: 0.1, 1: 0.3, 2: 0.6},\n",
       "            criterion='gini', max_depth=10, max_features=None,\n",
       "            max_leaf_nodes=None, min_samples_leaf=10, min_samples_split=20,\n",
       "            min_weight_fraction_leaf=0.0, presort=False, random_state=None,\n",
       "            splitter='best')"
      ]
     },
     "execution_count": 19,
     "metadata": {},
     "output_type": "execute_result"
    }
   ],
   "source": [
    "clf = DecisionTreeClassifier(class_weight={0:0.1, 1:0.3, 2:0.6}, criterion='gini', max_depth=10,\n",
    "                            max_features=None, max_leaf_nodes=None, min_samples_leaf=10,\n",
    "                            min_samples_split=20, min_weight_fraction_leaf=0.0,\n",
    "                            presort=False, random_state=None, splitter='best')\n",
    "clf.fit(x_train.drop(['auth_c'],1), y_train)"
   ]
  },
  {
   "cell_type": "code",
   "execution_count": 20,
   "metadata": {},
   "outputs": [
    {
     "data": {
      "text/plain": [
       "0.74683223517486064"
      ]
     },
     "execution_count": 20,
     "metadata": {},
     "output_type": "execute_result"
    }
   ],
   "source": [
    "clf.score(x_valid.drop(['auth_c'],1), y_valid)"
   ]
  },
  {
   "cell_type": "code",
   "execution_count": 21,
   "metadata": {},
   "outputs": [
    {
     "data": {
      "text/plain": [
       "0.76413794516011402"
      ]
     },
     "execution_count": 21,
     "metadata": {},
     "output_type": "execute_result"
    }
   ],
   "source": [
    "f1_score(y_valid, clf.predict(x_valid.drop(['auth_c'],1)), average='weighted')"
   ]
  },
  {
   "cell_type": "code",
   "execution_count": 22,
   "metadata": {},
   "outputs": [
    {
     "data": {
      "text/plain": [
       "DecisionTreeClassifier(class_weight={0: 0.1, 1: 0.3, 2: 0.6},\n",
       "            criterion='gini', max_depth=10, max_features=None,\n",
       "            max_leaf_nodes=None, min_samples_leaf=10, min_samples_split=20,\n",
       "            min_weight_fraction_leaf=0.0, presort=False, random_state=None,\n",
       "            splitter='best')"
      ]
     },
     "execution_count": 22,
     "metadata": {},
     "output_type": "execute_result"
    }
   ],
   "source": [
    "clf = DecisionTreeClassifier(class_weight={0:0.1, 1:0.3, 2:0.6}, criterion='gini', max_depth=10,\n",
    "                            max_features=None, max_leaf_nodes=None, min_samples_leaf=10,\n",
    "                            min_samples_split=20, min_weight_fraction_leaf=0.0,\n",
    "                            presort=False, random_state=None, splitter='best')\n",
    "clf.fit(x_train, y_train)"
   ]
  },
  {
   "cell_type": "code",
   "execution_count": 23,
   "metadata": {},
   "outputs": [
    {
     "data": {
      "text/plain": [
       "0.75291434363912824"
      ]
     },
     "execution_count": 23,
     "metadata": {},
     "output_type": "execute_result"
    }
   ],
   "source": [
    "clf.score(x_valid, y_valid)"
   ]
  },
  {
   "cell_type": "code",
   "execution_count": 24,
   "metadata": {},
   "outputs": [
    {
     "data": {
      "text/plain": [
       "0.77129867630226545"
      ]
     },
     "execution_count": 24,
     "metadata": {},
     "output_type": "execute_result"
    }
   ],
   "source": [
    "f1_score(y_valid, clf.predict(x_valid), average='weighted')"
   ]
  },
  {
   "cell_type": "code",
   "execution_count": 37,
   "metadata": {},
   "outputs": [
    {
     "data": {
      "text/plain": [
       "(11838, 3)"
      ]
     },
     "execution_count": 37,
     "metadata": {},
     "output_type": "execute_result"
    }
   ],
   "source": [
    "clf.predict_proba(x_valid).shape"
   ]
  },
  {
   "cell_type": "code",
   "execution_count": 26,
   "metadata": {},
   "outputs": [
    {
     "data": {
      "text/plain": [
       "array([ 0.54801921,  0.12064826,  0.33133253])"
      ]
     },
     "execution_count": 26,
     "metadata": {},
     "output_type": "execute_result"
    }
   ],
   "source": [
    "clf.predict_proba(x_valid)[1,:]"
   ]
  },
  {
   "cell_type": "code",
   "execution_count": 74,
   "metadata": {},
   "outputs": [
    {
     "data": {
      "text/plain": [
       "array([ 1.        ,  0.54801921,  0.82579609, ...,  0.82579609,\n",
       "        1.        ,  0.4375    ])"
      ]
     },
     "execution_count": 74,
     "metadata": {},
     "output_type": "execute_result"
    }
   ],
   "source": [
    "clf.predict_proba(x_valid)[:,0]"
   ]
  },
  {
   "cell_type": "code",
   "execution_count": null,
   "metadata": {
    "collapsed": true
   },
   "outputs": [],
   "source": []
  }
 ],
 "metadata": {
  "anaconda-cloud": {},
  "kernelspec": {
   "display_name": "Python 3",
   "language": "python",
   "name": "python3"
  },
  "language_info": {
   "codemirror_mode": {
    "name": "ipython",
    "version": 3
   },
   "file_extension": ".py",
   "mimetype": "text/x-python",
   "name": "python",
   "nbconvert_exporter": "python",
   "pygments_lexer": "ipython3",
   "version": "3.6.8"
  }
 },
 "nbformat": 4,
 "nbformat_minor": 1
}
